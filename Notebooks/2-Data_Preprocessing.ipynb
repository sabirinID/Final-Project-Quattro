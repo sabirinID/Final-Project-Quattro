{
  "cells": [
    {
      "cell_type": "markdown",
      "metadata": {
        "id": "mJTYSZs-Cwin"
      },
      "source": [
        "# **Online Shoppers Purchasing Intention**\n",
        "\n",
        "---"
      ]
    },
    {
      "cell_type": "markdown",
      "metadata": {
        "id": "-Pvuj7FaCzJI"
      },
      "source": [
        "# **Stage 2 - Data Preprocessing**"
      ]
    },
    {
      "cell_type": "markdown",
      "metadata": {
        "id": "vGLNiMWGFEc3"
      },
      "source": [
        "# Import Library"
      ]
    },
    {
      "cell_type": "code",
      "execution_count": 1,
      "metadata": {
        "id": "f7NTGqawFSlM"
      },
      "outputs": [],
      "source": [
        "# Data manipulation\n",
        "import numpy as np\n",
        "import pandas as pd\n",
        "\n",
        "# Data visualization\n",
        "import matplotlib as mlp\n",
        "import matplotlib.pyplot as plt\n",
        "import seaborn as sns\n",
        "import scipy as sp\n",
        "\n",
        "# Machine learning\n",
        "import sklearn\n",
        "\n",
        "# Ignore warning\n",
        "import warnings\n",
        "warnings.filterwarnings('ignore')"
      ]
    },
    {
      "cell_type": "code",
      "execution_count": 2,
      "metadata": {
        "colab": {
          "base_uri": "https://localhost:8080/"
        },
        "id": "o7qqU2KQmBcP",
        "outputId": "f9abf577-28ad-402a-d9d5-c8f1da2d09ba"
      },
      "outputs": [
        {
          "output_type": "stream",
          "name": "stdout",
          "text": [
            "Scikit-learn 1.2.2\n"
          ]
        }
      ],
      "source": [
        "print(f'Scikit-learn {sklearn.__version__}')"
      ]
    },
    {
      "cell_type": "markdown",
      "metadata": {
        "id": "bsIFMFqeEWZK"
      },
      "source": [
        "# Read Dataset"
      ]
    },
    {
      "cell_type": "code",
      "source": [
        "!gdown --id 1p3t3OTQCeHWNf1l1sacG1aXJsOkXZKvW # Download file"
      ],
      "metadata": {
        "colab": {
          "base_uri": "https://localhost:8080/"
        },
        "id": "EEgR4wVkLV54",
        "outputId": "da481b5f-2171-44f1-f356-27f4337244fc"
      },
      "execution_count": 3,
      "outputs": [
        {
          "output_type": "stream",
          "name": "stdout",
          "text": [
            "/usr/local/lib/python3.9/dist-packages/gdown/cli.py:121: FutureWarning: Option `--id` was deprecated in version 4.3.1 and will be removed in 5.0. You don't need to pass it anymore to use a file ID.\n",
            "  warnings.warn(\n",
            "Downloading...\n",
            "From: https://drive.google.com/uc?id=1p3t3OTQCeHWNf1l1sacG1aXJsOkXZKvW\n",
            "To: /content/online_shoppers_intention.csv\n",
            "100% 1.07M/1.07M [00:00<00:00, 95.2MB/s]\n"
          ]
        }
      ]
    },
    {
      "cell_type": "code",
      "execution_count": 4,
      "metadata": {
        "id": "f417d301-d4af-4c5b-9e7f-d782930bb232"
      },
      "outputs": [],
      "source": [
        "# Read data\n",
        "df = pd.read_csv('online_shoppers_intention.csv')"
      ]
    },
    {
      "cell_type": "code",
      "execution_count": 5,
      "metadata": {
        "id": "uMvIHvcRPqOW"
      },
      "outputs": [],
      "source": [
        "pd.set_option('display.max_columns', 100)\n",
        "pd.set_option('display.max_rows', 100)"
      ]
    },
    {
      "cell_type": "code",
      "execution_count": 6,
      "metadata": {
        "colab": {
          "base_uri": "https://localhost:8080/",
          "height": 270
        },
        "id": "_UM6NUeMSCpA",
        "outputId": "0899c51b-4a84-4bb4-bad5-d6fb42cbfbc5"
      },
      "outputs": [
        {
          "output_type": "execute_result",
          "data": {
            "text/plain": [
              "      Administrative  Administrative_Duration  Informational  \\\n",
              "447                3                     55.0              2   \n",
              "8542               4                     78.5              1   \n",
              "4379               3                     74.0              0   \n",
              "3498               0                      0.0              0   \n",
              "7696               0                      0.0              0   \n",
              "\n",
              "      Informational_Duration  ProductRelated  ProductRelated_Duration  \\\n",
              "447                     4.00               2                19.000000   \n",
              "8542                   32.75              50              1897.833333   \n",
              "4379                    0.00              14               584.333333   \n",
              "3498                    0.00              47              1144.483333   \n",
              "7696                    0.00              62              4391.666667   \n",
              "\n",
              "      BounceRates  ExitRates  PageValues  SpecialDay Month  OperatingSystems  \\\n",
              "447      0.000000   0.033333         0.0         0.0   Mar                 1   \n",
              "8542     0.012700   0.011746         0.0         0.0   Dec                 1   \n",
              "4379     0.000000   0.003704         0.0         0.0   May                 2   \n",
              "3498     0.041844   0.055319         0.0         0.0   May                 3   \n",
              "7696     0.003175   0.014815         0.0         0.0  June                 2   \n",
              "\n",
              "      Browser  Region  TrafficType        VisitorType  Weekend  Revenue  \n",
              "447         1       8            2        New_Visitor    False    False  \n",
              "8542        1       9            3  Returning_Visitor     True    False  \n",
              "4379        2       3            5        New_Visitor    False    False  \n",
              "3498        2       3           13  Returning_Visitor    False    False  \n",
              "7696       10       2            1  Returning_Visitor    False    False  "
            ],
            "text/html": [
              "\n",
              "  <div id=\"df-5bc903d9-a6eb-447f-a8f7-cedce80ded18\">\n",
              "    <div class=\"colab-df-container\">\n",
              "      <div>\n",
              "<style scoped>\n",
              "    .dataframe tbody tr th:only-of-type {\n",
              "        vertical-align: middle;\n",
              "    }\n",
              "\n",
              "    .dataframe tbody tr th {\n",
              "        vertical-align: top;\n",
              "    }\n",
              "\n",
              "    .dataframe thead th {\n",
              "        text-align: right;\n",
              "    }\n",
              "</style>\n",
              "<table border=\"1\" class=\"dataframe\">\n",
              "  <thead>\n",
              "    <tr style=\"text-align: right;\">\n",
              "      <th></th>\n",
              "      <th>Administrative</th>\n",
              "      <th>Administrative_Duration</th>\n",
              "      <th>Informational</th>\n",
              "      <th>Informational_Duration</th>\n",
              "      <th>ProductRelated</th>\n",
              "      <th>ProductRelated_Duration</th>\n",
              "      <th>BounceRates</th>\n",
              "      <th>ExitRates</th>\n",
              "      <th>PageValues</th>\n",
              "      <th>SpecialDay</th>\n",
              "      <th>Month</th>\n",
              "      <th>OperatingSystems</th>\n",
              "      <th>Browser</th>\n",
              "      <th>Region</th>\n",
              "      <th>TrafficType</th>\n",
              "      <th>VisitorType</th>\n",
              "      <th>Weekend</th>\n",
              "      <th>Revenue</th>\n",
              "    </tr>\n",
              "  </thead>\n",
              "  <tbody>\n",
              "    <tr>\n",
              "      <th>447</th>\n",
              "      <td>3</td>\n",
              "      <td>55.0</td>\n",
              "      <td>2</td>\n",
              "      <td>4.00</td>\n",
              "      <td>2</td>\n",
              "      <td>19.000000</td>\n",
              "      <td>0.000000</td>\n",
              "      <td>0.033333</td>\n",
              "      <td>0.0</td>\n",
              "      <td>0.0</td>\n",
              "      <td>Mar</td>\n",
              "      <td>1</td>\n",
              "      <td>1</td>\n",
              "      <td>8</td>\n",
              "      <td>2</td>\n",
              "      <td>New_Visitor</td>\n",
              "      <td>False</td>\n",
              "      <td>False</td>\n",
              "    </tr>\n",
              "    <tr>\n",
              "      <th>8542</th>\n",
              "      <td>4</td>\n",
              "      <td>78.5</td>\n",
              "      <td>1</td>\n",
              "      <td>32.75</td>\n",
              "      <td>50</td>\n",
              "      <td>1897.833333</td>\n",
              "      <td>0.012700</td>\n",
              "      <td>0.011746</td>\n",
              "      <td>0.0</td>\n",
              "      <td>0.0</td>\n",
              "      <td>Dec</td>\n",
              "      <td>1</td>\n",
              "      <td>1</td>\n",
              "      <td>9</td>\n",
              "      <td>3</td>\n",
              "      <td>Returning_Visitor</td>\n",
              "      <td>True</td>\n",
              "      <td>False</td>\n",
              "    </tr>\n",
              "    <tr>\n",
              "      <th>4379</th>\n",
              "      <td>3</td>\n",
              "      <td>74.0</td>\n",
              "      <td>0</td>\n",
              "      <td>0.00</td>\n",
              "      <td>14</td>\n",
              "      <td>584.333333</td>\n",
              "      <td>0.000000</td>\n",
              "      <td>0.003704</td>\n",
              "      <td>0.0</td>\n",
              "      <td>0.0</td>\n",
              "      <td>May</td>\n",
              "      <td>2</td>\n",
              "      <td>2</td>\n",
              "      <td>3</td>\n",
              "      <td>5</td>\n",
              "      <td>New_Visitor</td>\n",
              "      <td>False</td>\n",
              "      <td>False</td>\n",
              "    </tr>\n",
              "    <tr>\n",
              "      <th>3498</th>\n",
              "      <td>0</td>\n",
              "      <td>0.0</td>\n",
              "      <td>0</td>\n",
              "      <td>0.00</td>\n",
              "      <td>47</td>\n",
              "      <td>1144.483333</td>\n",
              "      <td>0.041844</td>\n",
              "      <td>0.055319</td>\n",
              "      <td>0.0</td>\n",
              "      <td>0.0</td>\n",
              "      <td>May</td>\n",
              "      <td>3</td>\n",
              "      <td>2</td>\n",
              "      <td>3</td>\n",
              "      <td>13</td>\n",
              "      <td>Returning_Visitor</td>\n",
              "      <td>False</td>\n",
              "      <td>False</td>\n",
              "    </tr>\n",
              "    <tr>\n",
              "      <th>7696</th>\n",
              "      <td>0</td>\n",
              "      <td>0.0</td>\n",
              "      <td>0</td>\n",
              "      <td>0.00</td>\n",
              "      <td>62</td>\n",
              "      <td>4391.666667</td>\n",
              "      <td>0.003175</td>\n",
              "      <td>0.014815</td>\n",
              "      <td>0.0</td>\n",
              "      <td>0.0</td>\n",
              "      <td>June</td>\n",
              "      <td>2</td>\n",
              "      <td>10</td>\n",
              "      <td>2</td>\n",
              "      <td>1</td>\n",
              "      <td>Returning_Visitor</td>\n",
              "      <td>False</td>\n",
              "      <td>False</td>\n",
              "    </tr>\n",
              "  </tbody>\n",
              "</table>\n",
              "</div>\n",
              "      <button class=\"colab-df-convert\" onclick=\"convertToInteractive('df-5bc903d9-a6eb-447f-a8f7-cedce80ded18')\"\n",
              "              title=\"Convert this dataframe to an interactive table.\"\n",
              "              style=\"display:none;\">\n",
              "        \n",
              "  <svg xmlns=\"http://www.w3.org/2000/svg\" height=\"24px\"viewBox=\"0 0 24 24\"\n",
              "       width=\"24px\">\n",
              "    <path d=\"M0 0h24v24H0V0z\" fill=\"none\"/>\n",
              "    <path d=\"M18.56 5.44l.94 2.06.94-2.06 2.06-.94-2.06-.94-.94-2.06-.94 2.06-2.06.94zm-11 1L8.5 8.5l.94-2.06 2.06-.94-2.06-.94L8.5 2.5l-.94 2.06-2.06.94zm10 10l.94 2.06.94-2.06 2.06-.94-2.06-.94-.94-2.06-.94 2.06-2.06.94z\"/><path d=\"M17.41 7.96l-1.37-1.37c-.4-.4-.92-.59-1.43-.59-.52 0-1.04.2-1.43.59L10.3 9.45l-7.72 7.72c-.78.78-.78 2.05 0 2.83L4 21.41c.39.39.9.59 1.41.59.51 0 1.02-.2 1.41-.59l7.78-7.78 2.81-2.81c.8-.78.8-2.07 0-2.86zM5.41 20L4 18.59l7.72-7.72 1.47 1.35L5.41 20z\"/>\n",
              "  </svg>\n",
              "      </button>\n",
              "      \n",
              "  <style>\n",
              "    .colab-df-container {\n",
              "      display:flex;\n",
              "      flex-wrap:wrap;\n",
              "      gap: 12px;\n",
              "    }\n",
              "\n",
              "    .colab-df-convert {\n",
              "      background-color: #E8F0FE;\n",
              "      border: none;\n",
              "      border-radius: 50%;\n",
              "      cursor: pointer;\n",
              "      display: none;\n",
              "      fill: #1967D2;\n",
              "      height: 32px;\n",
              "      padding: 0 0 0 0;\n",
              "      width: 32px;\n",
              "    }\n",
              "\n",
              "    .colab-df-convert:hover {\n",
              "      background-color: #E2EBFA;\n",
              "      box-shadow: 0px 1px 2px rgba(60, 64, 67, 0.3), 0px 1px 3px 1px rgba(60, 64, 67, 0.15);\n",
              "      fill: #174EA6;\n",
              "    }\n",
              "\n",
              "    [theme=dark] .colab-df-convert {\n",
              "      background-color: #3B4455;\n",
              "      fill: #D2E3FC;\n",
              "    }\n",
              "\n",
              "    [theme=dark] .colab-df-convert:hover {\n",
              "      background-color: #434B5C;\n",
              "      box-shadow: 0px 1px 3px 1px rgba(0, 0, 0, 0.15);\n",
              "      filter: drop-shadow(0px 1px 2px rgba(0, 0, 0, 0.3));\n",
              "      fill: #FFFFFF;\n",
              "    }\n",
              "  </style>\n",
              "\n",
              "      <script>\n",
              "        const buttonEl =\n",
              "          document.querySelector('#df-5bc903d9-a6eb-447f-a8f7-cedce80ded18 button.colab-df-convert');\n",
              "        buttonEl.style.display =\n",
              "          google.colab.kernel.accessAllowed ? 'block' : 'none';\n",
              "\n",
              "        async function convertToInteractive(key) {\n",
              "          const element = document.querySelector('#df-5bc903d9-a6eb-447f-a8f7-cedce80ded18');\n",
              "          const dataTable =\n",
              "            await google.colab.kernel.invokeFunction('convertToInteractive',\n",
              "                                                     [key], {});\n",
              "          if (!dataTable) return;\n",
              "\n",
              "          const docLinkHtml = 'Like what you see? Visit the ' +\n",
              "            '<a target=\"_blank\" href=https://colab.research.google.com/notebooks/data_table.ipynb>data table notebook</a>'\n",
              "            + ' to learn more about interactive tables.';\n",
              "          element.innerHTML = '';\n",
              "          dataTable['output_type'] = 'display_data';\n",
              "          await google.colab.output.renderOutput(dataTable, element);\n",
              "          const docLink = document.createElement('div');\n",
              "          docLink.innerHTML = docLinkHtml;\n",
              "          element.appendChild(docLink);\n",
              "        }\n",
              "      </script>\n",
              "    </div>\n",
              "  </div>\n",
              "  "
            ]
          },
          "metadata": {},
          "execution_count": 6
        }
      ],
      "source": [
        "df.sample(5)"
      ]
    },
    {
      "cell_type": "markdown",
      "metadata": {
        "id": "rv-BZ62_CzDo"
      },
      "source": [
        "# 1. Data Cleaning"
      ]
    },
    {
      "cell_type": "markdown",
      "metadata": {
        "id": "IeQslRYeu1As"
      },
      "source": [
        "[Data cleaning](https://www.techtarget.com/searchdatamanagement/definition/data-scrubbing), juga disebut dengan _data scrubbing_, adalah proses memperbaiki data yang salah, tidak lengkap, duplikat, atau lainnya yang salah dalam sebuah dataset. Ini melibatkan identifikasi kesalahan data dan kemudian mengubah, memperbarui, atau menghapus data untuk memperbaikinya."
      ]
    },
    {
      "cell_type": "markdown",
      "metadata": {
        "id": "7DmEZ8NLrjjo"
      },
      "source": [
        "## 1.0. Check Features"
      ]
    },
    {
      "cell_type": "markdown",
      "metadata": {
        "id": "lBUCc51gXcA8"
      },
      "source": [
        "### Melakukan cek fitur"
      ]
    },
    {
      "cell_type": "code",
      "execution_count": 7,
      "metadata": {
        "colab": {
          "base_uri": "https://localhost:8080/"
        },
        "id": "NsmvGNu9lAwJ",
        "outputId": "71ac8702-8a11-4b43-848a-fc10fbe3c6bf"
      },
      "outputs": [
        {
          "output_type": "stream",
          "name": "stdout",
          "text": [
            "Sebelum Konversi:\n",
            "Administrative               int64\n",
            "Administrative_Duration    float64\n",
            "Informational                int64\n",
            "Informational_Duration     float64\n",
            "ProductRelated               int64\n",
            "ProductRelated_Duration    float64\n",
            "BounceRates                float64\n",
            "ExitRates                  float64\n",
            "PageValues                 float64\n",
            "SpecialDay                 float64\n",
            "Month                       object\n",
            "OperatingSystems             int64\n",
            "Browser                      int64\n",
            "Region                       int64\n",
            "TrafficType                  int64\n",
            "VisitorType                 object\n",
            "Weekend                       bool\n",
            "Revenue                       bool\n",
            "dtype: object\n",
            "\n",
            "Sesudah Konversi:\n",
            "Administrative               int64\n",
            "Administrative_Duration    float64\n",
            "Informational                int64\n",
            "Informational_Duration     float64\n",
            "ProductRelated               int64\n",
            "ProductRelated_Duration    float64\n",
            "BounceRates                float64\n",
            "ExitRates                  float64\n",
            "PageValues                 float64\n",
            "SpecialDay                 float64\n",
            "Month                       object\n",
            "OperatingSystems            object\n",
            "Browser                     object\n",
            "Region                      object\n",
            "TrafficType                 object\n",
            "VisitorType                 object\n",
            "Weekend                      int64\n",
            "Purchase                     int64\n",
            "dtype: object\n",
            "\n"
          ]
        }
      ],
      "source": [
        "# Before converting\n",
        "before = df.dtypes\n",
        "\n",
        "# Convert dtypes: integer to string\n",
        "for i in ['OperatingSystems', 'Browser', 'Region', 'TrafficType']:\n",
        "  df[i] = df[i].astype(str)\n",
        "\n",
        "# Convert dtypes: boolean to integer (binary)\n",
        "for i in ['Weekend', 'Revenue']:\n",
        "  df[i] = df[i].astype(int)\n",
        "\n",
        "# Change target feature name to reduce ambiguity\n",
        "df = df.rename(columns = {'Revenue' : 'Purchase'})\n",
        "\n",
        "# After converting\n",
        "after = df.dtypes\n",
        "\n",
        "print(f'Sebelum Konversi:\\n{before}\\n')\n",
        "print(f'Sesudah Konversi:\\n{after}\\n')"
      ]
    },
    {
      "cell_type": "markdown",
      "metadata": {
        "id": "fl9bLv9Rmk3M"
      },
      "source": [
        "Kita melakukan beberapa perubahan:\n",
        "- Mengonversi fitur `OperatingSystems`, `Browser`, `Region`, dan `TrafficType` dengan tipe data integer menjadi string, karena selanjutnya akan dilakukan _One-Hot Encoding_.\n",
        "- Mengonversi fitur dengan tipe data boolean menjadi integer (biner).\n",
        "- Mengubah nama fitur target `Revenue` menjadi `Purchase` agar tidak menimbulkan ketidakjelasan atau ambiguitas."
      ]
    },
    {
      "cell_type": "markdown",
      "metadata": {
        "id": "pzKcUxph2C6N"
      },
      "source": [
        "### Melakukan penggantian nilai pada fitur `OperatingSystems`\n",
        "Sumber: https://gs.statcounter.com/os-market-share/all/indonesia"
      ]
    },
    {
      "cell_type": "code",
      "execution_count": 8,
      "metadata": {
        "colab": {
          "base_uri": "https://localhost:8080/"
        },
        "id": "Jgo_9QvpmSdi",
        "outputId": "d21c217b-e0a9-4654-d45f-1efe17d51aa1"
      },
      "outputs": [
        {
          "output_type": "execute_result",
          "data": {
            "text/plain": [
              "Android    0.535361\n",
              "Windows    0.209651\n",
              "iOS        0.207218\n",
              "macOS      0.038767\n",
              "Other      0.009002\n",
              "Name: OperatingSystems, dtype: float64"
            ]
          },
          "metadata": {},
          "execution_count": 8
        }
      ],
      "source": [
        "# Melakukan penggantian nilai pada kolom 'OperatingSystems'\n",
        "# Untuk tipe OS 5 s.d. 8 dimasukkan ke dalam satu tipe OS Other\n",
        "df['OperatingSystems'] = df['OperatingSystems'].replace(['5', '6', '7', '8'], 'Other')\n",
        "df['OperatingSystems'] = df['OperatingSystems'].replace({\n",
        "    '1': 'Windows',\n",
        "    '2': 'Android',\n",
        "    '3': 'iOS',\n",
        "    '4': 'macOS'\n",
        "})\n",
        "df['OperatingSystems'].value_counts(normalize = True)"
      ]
    },
    {
      "cell_type": "markdown",
      "metadata": {
        "id": "1vqLx0x7_fiR"
      },
      "source": [
        "### Melakukan penggantian nilai pada fitur `Browser`\n",
        "Sumber: https://gs.statcounter.com/browser-market-share/all/indonesia"
      ]
    },
    {
      "cell_type": "code",
      "execution_count": 9,
      "metadata": {
        "colab": {
          "base_uri": "https://localhost:8080/"
        },
        "id": "6NjIo9kKncut",
        "outputId": "5deb5a2b-1828-4677-9809-64fef3f61468"
      },
      "outputs": [
        {
          "output_type": "execute_result",
          "data": {
            "text/plain": [
              "Chrome     0.645661\n",
              "Safari     0.199676\n",
              "Firefox    0.059692\n",
              "Other      0.057097\n",
              "Edge       0.037875\n",
              "Name: Browser, dtype: float64"
            ]
          },
          "metadata": {},
          "execution_count": 9
        }
      ],
      "source": [
        "# Untuk tipe Browser 6 s.d. 13 dimasukkan ke dalam satu tipe Browser Other\n",
        "df['Browser'] = df['Browser'].replace(['6', '7', '8', '9', '10', '11', '12', '13'], 'Other')\n",
        "df['Browser'] = df['Browser'].replace({\n",
        "    '1': 'Safari',\n",
        "    '2': 'Chrome',\n",
        "    '3': 'Other', # Samsung_Internet\n",
        "    '4': 'Firefox',\n",
        "    '5': 'Edge'\n",
        "})\n",
        "df['Browser'].value_counts(normalize = True)"
      ]
    },
    {
      "cell_type": "markdown",
      "metadata": {
        "id": "r_MIMxXZ_4I3"
      },
      "source": [
        "### Melakukan penggantian nilai pada fitur `Region`\n",
        "Fitur `Region` diganti dengan Provinsi di Indonesia yang memiliki proporsi individu yang menggunakan internet tertinggi tahun 2019 (data terkini).\n",
        "\n",
        "Sumber: Badan Pusat Statistik ([BPS - Statistics Indonesia](https://www.bps.go.id/indicator/27/1225/1/proporsi-individu-yang-menggunakan-internet-menurut-provinsi.html))"
      ]
    },
    {
      "cell_type": "code",
      "execution_count": 10,
      "metadata": {
        "colab": {
          "base_uri": "https://localhost:8080/"
        },
        "id": "MCEbkSJRAAnA",
        "outputId": "6c9dd697-e49c-4ed7-faed-2cb4b162393e"
      },
      "outputs": [
        {
          "output_type": "execute_result",
          "data": {
            "text/plain": [
              "DKI_Jakarta         0.387672\n",
              "Kepulauan_Riau      0.194891\n",
              "DI_Yogyakarta       0.095864\n",
              "Kalimantan_Timur    0.092133\n",
              "Banten              0.065288\n",
              "Kalimantan_Utara    0.061719\n",
              "Bali                0.041444\n",
              "Jawa_Barat          0.035199\n",
              "Other               0.025791\n",
              "Name: Region, dtype: float64"
            ]
          },
          "metadata": {},
          "execution_count": 10
        }
      ],
      "source": [
        "# Untuk Region dengan proporsi terendah dimasukkan ke dalam 'Region' Other\n",
        "df['Region'] = df['Region'].replace({\n",
        "    '1': 'DKI_Jakarta',\n",
        "    '2': 'Kalimantan_Timur',\n",
        "    '3': 'Kepulauan_Riau',\n",
        "    '4': 'DI_Yogyakarta',\n",
        "    '5': 'Other',\n",
        "    '6': 'Banten',\n",
        "    '7': 'Kalimantan_Utara',\n",
        "    '8': 'Jawa_Barat',\n",
        "    '9': 'Bali',\n",
        "})\n",
        "df['Region'].value_counts(normalize = True)"
      ]
    },
    {
      "cell_type": "markdown",
      "metadata": {
        "id": "CetniCGzEbNB"
      },
      "source": [
        "### Melakukan penggantian nilai pada fitur `TrafficType`"
      ]
    },
    {
      "cell_type": "markdown",
      "metadata": {
        "id": "zeR5p3zeS2Ql"
      },
      "source": [
        "Sumber: https://www.similarweb.com/website/tokopedia.com/#traffic-sources"
      ]
    },
    {
      "cell_type": "code",
      "execution_count": 11,
      "metadata": {
        "colab": {
          "base_uri": "https://localhost:8080/"
        },
        "id": "f0PbbCawFb2y",
        "outputId": "3c583d7c-92cf-4f67-ffde-6256654b120e"
      },
      "outputs": [
        {
          "output_type": "execute_result",
          "data": {
            "text/plain": [
              "Direct_Traffic         0.317356\n",
              "Organic_Traffic        0.198783\n",
              "Social_Traffic         0.166423\n",
              "Other                  0.098378\n",
              "Paid_Traffic           0.086699\n",
              "Referral_Traffic       0.059854\n",
              "Email_Marketing        0.036496\n",
              "Display_Advertising    0.036010\n",
              "Name: TrafficType, dtype: float64"
            ]
          },
          "metadata": {},
          "execution_count": 11
        }
      ],
      "source": [
        "# Untuk tipe Traffic dengan proporsi rendah dimasukkan ke dalam 'TrafficType' Other\n",
        "df['TrafficType'] = df['TrafficType'].replace(['5', '7', '8', '9', '11', '12', '14', '15', '16', '17', '18', '19', '20'], 'Other')\n",
        "df['TrafficType'] = df['TrafficType'].replace({\n",
        "    '1': 'Organic_Traffic',\n",
        "    '2': 'Direct_Traffic',\n",
        "    '3': 'Social_Traffic',\n",
        "    '4': 'Paid_Traffic',\n",
        "    '6': 'Display_Advertising',\n",
        "    '10': 'Email_Marketing',\n",
        "    '13': 'Referral_Traffic'\n",
        "})\n",
        "df['TrafficType'].value_counts(normalize = True)"
      ]
    },
    {
      "cell_type": "markdown",
      "metadata": {
        "id": "Gx84GWvWvGzb"
      },
      "source": [
        "### Melakukan penggantian nilai pada fitur `VisitorType`"
      ]
    },
    {
      "cell_type": "code",
      "execution_count": 12,
      "metadata": {
        "colab": {
          "base_uri": "https://localhost:8080/"
        },
        "id": "raYJ7VzXuZS1",
        "outputId": "ea16407f-8240-4230-c8b7-3132aa9d2283"
      },
      "outputs": [
        {
          "output_type": "execute_result",
          "data": {
            "text/plain": [
              "Returning_Visitor    0.855718\n",
              "New_Visitor          0.137388\n",
              "Other                0.006894\n",
              "Name: VisitorType, dtype: float64"
            ]
          },
          "metadata": {},
          "execution_count": 12
        }
      ],
      "source": [
        "df['VisitorType'].value_counts(normalize = True)"
      ]
    },
    {
      "cell_type": "code",
      "execution_count": 13,
      "metadata": {
        "colab": {
          "base_uri": "https://localhost:8080/"
        },
        "id": "Rv237JcpusXz",
        "outputId": "13684229-5cdc-44ae-8b56-abb5d3ad014c"
      },
      "outputs": [
        {
          "output_type": "execute_result",
          "data": {
            "text/plain": [
              "0    0.862612\n",
              "1    0.137388\n",
              "Name: VisitorType, dtype: float64"
            ]
          },
          "metadata": {},
          "execution_count": 13
        }
      ],
      "source": [
        "# Transform 'Other' Value to 'Returning_Visitor'\n",
        "df['VisitorType'] = np.where(df['VisitorType'] == 'New_Visitor', 1, 0 )\n",
        "df['VisitorType'].value_counts(normalize = True)"
      ]
    },
    {
      "cell_type": "markdown",
      "metadata": {
        "id": "9TxBPNU8XmWC"
      },
      "source": [
        "### Mengelompokkan fitur"
      ]
    },
    {
      "cell_type": "code",
      "execution_count": 14,
      "metadata": {
        "id": "qi6ByEjKTxOj"
      },
      "outputs": [],
      "source": [
        "# Feature Grouping\n",
        "num_var = ['Administrative', 'Administrative_Duration',\n",
        "           'Informational', 'Informational_Duration',\n",
        "           'ProductRelated', 'ProductRelated_Duration',\n",
        "           'BounceRates', 'ExitRates',\n",
        "           'PageValues', 'SpecialDay']\n",
        "cat_var = ['Month', 'OperatingSystems',\n",
        "           'Browser', 'Region',\n",
        "           'TrafficType', 'VisitorType',\n",
        "           'Weekend']\n",
        "target = 'Purchase'"
      ]
    },
    {
      "cell_type": "markdown",
      "metadata": {
        "id": "cddalzmGDWqb"
      },
      "source": [
        "## 1.1. Handle Missing Values"
      ]
    },
    {
      "cell_type": "code",
      "execution_count": 15,
      "metadata": {
        "colab": {
          "base_uri": "https://localhost:8080/"
        },
        "id": "crkh4_3HHp5S",
        "outputId": "6de7d3f9-4db8-4610-c266-f0a58e99a66a"
      },
      "outputs": [
        {
          "output_type": "stream",
          "name": "stdout",
          "text": [
            "Jumlah total nilai kosong dalam dataset: 0\n"
          ]
        }
      ],
      "source": [
        "# Check Missing Values\n",
        "print(f'Jumlah total nilai kosong dalam dataset: {df.isna().sum().sum()}')"
      ]
    },
    {
      "cell_type": "markdown",
      "metadata": {
        "id": "It_hhCldKbyK"
      },
      "source": [
        "- Dataset ini bersih, tidak memiliki nilai kosong."
      ]
    },
    {
      "cell_type": "markdown",
      "metadata": {
        "id": "uR8akfIdDWgy"
      },
      "source": [
        "## 1.2. Handle Duplicated Data"
      ]
    },
    {
      "cell_type": "code",
      "execution_count": 16,
      "metadata": {
        "colab": {
          "base_uri": "https://localhost:8080/"
        },
        "id": "sGB6wAICHqld",
        "outputId": "aaf4b4ce-0713-4789-813f-ca6f574075c2"
      },
      "outputs": [
        {
          "output_type": "stream",
          "name": "stdout",
          "text": [
            "Jumlah total duplikat dalam dataset: 128\n"
          ]
        }
      ],
      "source": [
        "# Check Duplicated Data\n",
        "print(f'Jumlah total duplikat dalam dataset: {df.duplicated().sum()}')"
      ]
    },
    {
      "cell_type": "markdown",
      "metadata": {
        "id": "7wIooyCrJPVl"
      },
      "source": [
        "- Dataset ini memiliki data duplikat sebanyak 128 baris. Walaupun demikian, kita berasumsi bahwa data tersebut merupakan data unik, yang terkait dengan sesi kunjungan pelanggan, sehingga kita tidak _handle_ data tersebut."
      ]
    },
    {
      "cell_type": "markdown",
      "metadata": {
        "id": "i7ZE_0IvDWWG"
      },
      "source": [
        "## 1.3. Handle Outliers"
      ]
    },
    {
      "cell_type": "markdown",
      "metadata": {
        "id": "OXP0JNWdI59L"
      },
      "source": [
        "### 1.3.0. Splitting Dataset into Train and Test sets"
      ]
    },
    {
      "cell_type": "markdown",
      "metadata": {
        "id": "YtvHpY8aJtJZ"
      },
      "source": [
        "Sebelum melakukan _handling outlier_, kita melakukan _splitting dataset_ menjadi train dan test set. Kita hanya melakukan _handling outlier_ pada data **_train_** dan selanjutnya melakukan evaluasi performa model pada data **_test_**."
      ]
    },
    {
      "cell_type": "code",
      "execution_count": 17,
      "metadata": {
        "colab": {
          "base_uri": "https://localhost:8080/"
        },
        "id": "2Iq1hfjvKbnR",
        "outputId": "a511ffd2-1863-410e-b633-0009af78031d"
      },
      "outputs": [
        {
          "output_type": "stream",
          "name": "stdout",
          "text": [
            "Shape of X_train: (9864, 17)\n",
            "Shape of y_train: (9864,)\n",
            "Shape of X_test : (2466, 17)\n",
            "Shape of y_test : (2466,)\n"
          ]
        }
      ],
      "source": [
        "X = df[num_var + cat_var]\n",
        "y = df[target]\n",
        "\n",
        "# Split the data\n",
        "from sklearn.model_selection import train_test_split\n",
        "X_train, X_test, y_train, y_test = train_test_split(X, y, test_size = 0.2, random_state = 400)\n",
        "\n",
        "# Check the shapes\n",
        "print(f'Shape of X_train: {X_train.shape}')\n",
        "print(f'Shape of y_train: {y_train.shape}')\n",
        "print(f'Shape of X_test : {X_test.shape}')\n",
        "print(f'Shape of y_test : {y_test.shape}')"
      ]
    },
    {
      "cell_type": "code",
      "execution_count": 18,
      "metadata": {
        "colab": {
          "base_uri": "https://localhost:8080/"
        },
        "id": "a9Ed6xTKTNX_",
        "outputId": "6b4b5aae-0672-4fff-abe2-749819c1933e"
      },
      "outputs": [
        {
          "output_type": "execute_result",
          "data": {
            "text/plain": [
              "Index(['Administrative', 'Administrative_Duration', 'Informational',\n",
              "       'Informational_Duration', 'ProductRelated', 'ProductRelated_Duration',\n",
              "       'BounceRates', 'ExitRates', 'PageValues', 'SpecialDay', 'Month',\n",
              "       'OperatingSystems', 'Browser', 'Region', 'TrafficType', 'VisitorType',\n",
              "       'Weekend'],\n",
              "      dtype='object')"
            ]
          },
          "metadata": {},
          "execution_count": 18
        }
      ],
      "source": [
        "X.columns"
      ]
    },
    {
      "cell_type": "markdown",
      "metadata": {
        "id": "bxlPZT8WJCmz"
      },
      "source": [
        "### 1.3.1. Handling Outlier"
      ]
    },
    {
      "cell_type": "markdown",
      "metadata": {
        "id": "pna5J2zjMpBA"
      },
      "source": [
        "Kami menggunakan metode Z-Score untuk menghapus data _outlier_ ekstrem pada **X_train** set."
      ]
    },
    {
      "cell_type": "code",
      "execution_count": 19,
      "metadata": {
        "colab": {
          "base_uri": "https://localhost:8080/"
        },
        "id": "CGK2U7gUFSR-",
        "outputId": "51a460a9-08de-4d04-d33e-5a4284b1e6e2"
      },
      "outputs": [
        {
          "output_type": "stream",
          "name": "stdout",
          "text": [
            "Jumlah baris sebelum memfilter outlier: 9864\n",
            "Jumlah baris sesudah memfilter outlier: 9864\n"
          ]
        }
      ],
      "source": [
        "from scipy import stats\n",
        "\n",
        "print(f'Jumlah baris sebelum memfilter outlier: {len(X_train)}')\n",
        "col = X_train[num_var].columns\n",
        "for col in num_var:\n",
        "    # Menghitung z-score untuk setiap data pada kolom\n",
        "    z_scores = stats.zscore(X_train[col])\n",
        "    \n",
        "    # Menentukan batas atas dan bawah untuk outlier\n",
        "    k = 3\n",
        "    outlier_upper = X_train[col].mean() + k * X_train[col].std()\n",
        "    outlier_lower = X_train[col].mean() - k * X_train[col].std()\n",
        "    \n",
        "    # Mengubah nilai outlier dengan nilai min atau max\n",
        "    X_train.loc[z_scores > k, col] = outlier_upper\n",
        "    X_train.loc[z_scores < -k, col] = outlier_lower\n",
        "\n",
        "print(f'Jumlah baris sesudah memfilter outlier: {len(X_train)}')"
      ]
    },
    {
      "cell_type": "code",
      "execution_count": 20,
      "metadata": {
        "colab": {
          "base_uri": "https://localhost:8080/",
          "height": 426
        },
        "id": "9csxJQvzGV60",
        "outputId": "4aeeead0-c306-4616-d411-75199c781dac"
      },
      "outputs": [
        {
          "output_type": "execute_result",
          "data": {
            "text/plain": [
              "                          count         mean          std  min         25%  \\\n",
              "Administrative           9864.0     2.256527     3.106233  0.0    0.000000   \n",
              "Administrative_Duration  9864.0    73.289617   127.858668  0.0    0.000000   \n",
              "Informational            9864.0     0.449369     1.021815  0.0    0.000000   \n",
              "Informational_Duration   9864.0    26.598905    83.776893  0.0    0.000000   \n",
              "ProductRelated           9864.0    30.009194    34.557481  0.0    7.000000   \n",
              "ProductRelated_Duration  9864.0  1126.539813  1432.521879  0.0  187.000000   \n",
              "BounceRates              9864.0     0.020147     0.041483  0.0    0.000000   \n",
              "ExitRates                9864.0     0.042278     0.046271  0.0    0.014286   \n",
              "PageValues               9864.0     5.016260    13.027800  0.0    0.000000   \n",
              "SpecialDay               9864.0     0.055153     0.170220  0.0    0.000000   \n",
              "VisitorType              9864.0     0.137368     0.344253  0.0    0.000000   \n",
              "Weekend                  9864.0     0.233577     0.423127  0.0    0.000000   \n",
              "\n",
              "                                50%          75%          max  \n",
              "Administrative             1.000000     4.000000    12.266580  \n",
              "Administrative_Duration    7.000000    92.100379   614.642535  \n",
              "Informational              0.000000     0.000000     4.279875  \n",
              "Informational_Duration     0.000000     0.000000   456.866299  \n",
              "ProductRelated            18.000000    38.000000   163.798308  \n",
              "ProductRelated_Duration  605.808333  1470.881445  6930.199571  \n",
              "BounceRates                0.003070     0.016787     0.166823  \n",
              "ExitRates                  0.025401     0.050000     0.188231  \n",
              "PageValues                 0.000000     0.000000    60.550726  \n",
              "SpecialDay                 0.000000     0.000000     0.664855  \n",
              "VisitorType                0.000000     0.000000     1.000000  \n",
              "Weekend                    0.000000     0.000000     1.000000  "
            ],
            "text/html": [
              "\n",
              "  <div id=\"df-1f7646f4-1d9f-4d58-a778-ae4a33f99813\">\n",
              "    <div class=\"colab-df-container\">\n",
              "      <div>\n",
              "<style scoped>\n",
              "    .dataframe tbody tr th:only-of-type {\n",
              "        vertical-align: middle;\n",
              "    }\n",
              "\n",
              "    .dataframe tbody tr th {\n",
              "        vertical-align: top;\n",
              "    }\n",
              "\n",
              "    .dataframe thead th {\n",
              "        text-align: right;\n",
              "    }\n",
              "</style>\n",
              "<table border=\"1\" class=\"dataframe\">\n",
              "  <thead>\n",
              "    <tr style=\"text-align: right;\">\n",
              "      <th></th>\n",
              "      <th>count</th>\n",
              "      <th>mean</th>\n",
              "      <th>std</th>\n",
              "      <th>min</th>\n",
              "      <th>25%</th>\n",
              "      <th>50%</th>\n",
              "      <th>75%</th>\n",
              "      <th>max</th>\n",
              "    </tr>\n",
              "  </thead>\n",
              "  <tbody>\n",
              "    <tr>\n",
              "      <th>Administrative</th>\n",
              "      <td>9864.0</td>\n",
              "      <td>2.256527</td>\n",
              "      <td>3.106233</td>\n",
              "      <td>0.0</td>\n",
              "      <td>0.000000</td>\n",
              "      <td>1.000000</td>\n",
              "      <td>4.000000</td>\n",
              "      <td>12.266580</td>\n",
              "    </tr>\n",
              "    <tr>\n",
              "      <th>Administrative_Duration</th>\n",
              "      <td>9864.0</td>\n",
              "      <td>73.289617</td>\n",
              "      <td>127.858668</td>\n",
              "      <td>0.0</td>\n",
              "      <td>0.000000</td>\n",
              "      <td>7.000000</td>\n",
              "      <td>92.100379</td>\n",
              "      <td>614.642535</td>\n",
              "    </tr>\n",
              "    <tr>\n",
              "      <th>Informational</th>\n",
              "      <td>9864.0</td>\n",
              "      <td>0.449369</td>\n",
              "      <td>1.021815</td>\n",
              "      <td>0.0</td>\n",
              "      <td>0.000000</td>\n",
              "      <td>0.000000</td>\n",
              "      <td>0.000000</td>\n",
              "      <td>4.279875</td>\n",
              "    </tr>\n",
              "    <tr>\n",
              "      <th>Informational_Duration</th>\n",
              "      <td>9864.0</td>\n",
              "      <td>26.598905</td>\n",
              "      <td>83.776893</td>\n",
              "      <td>0.0</td>\n",
              "      <td>0.000000</td>\n",
              "      <td>0.000000</td>\n",
              "      <td>0.000000</td>\n",
              "      <td>456.866299</td>\n",
              "    </tr>\n",
              "    <tr>\n",
              "      <th>ProductRelated</th>\n",
              "      <td>9864.0</td>\n",
              "      <td>30.009194</td>\n",
              "      <td>34.557481</td>\n",
              "      <td>0.0</td>\n",
              "      <td>7.000000</td>\n",
              "      <td>18.000000</td>\n",
              "      <td>38.000000</td>\n",
              "      <td>163.798308</td>\n",
              "    </tr>\n",
              "    <tr>\n",
              "      <th>ProductRelated_Duration</th>\n",
              "      <td>9864.0</td>\n",
              "      <td>1126.539813</td>\n",
              "      <td>1432.521879</td>\n",
              "      <td>0.0</td>\n",
              "      <td>187.000000</td>\n",
              "      <td>605.808333</td>\n",
              "      <td>1470.881445</td>\n",
              "      <td>6930.199571</td>\n",
              "    </tr>\n",
              "    <tr>\n",
              "      <th>BounceRates</th>\n",
              "      <td>9864.0</td>\n",
              "      <td>0.020147</td>\n",
              "      <td>0.041483</td>\n",
              "      <td>0.0</td>\n",
              "      <td>0.000000</td>\n",
              "      <td>0.003070</td>\n",
              "      <td>0.016787</td>\n",
              "      <td>0.166823</td>\n",
              "    </tr>\n",
              "    <tr>\n",
              "      <th>ExitRates</th>\n",
              "      <td>9864.0</td>\n",
              "      <td>0.042278</td>\n",
              "      <td>0.046271</td>\n",
              "      <td>0.0</td>\n",
              "      <td>0.014286</td>\n",
              "      <td>0.025401</td>\n",
              "      <td>0.050000</td>\n",
              "      <td>0.188231</td>\n",
              "    </tr>\n",
              "    <tr>\n",
              "      <th>PageValues</th>\n",
              "      <td>9864.0</td>\n",
              "      <td>5.016260</td>\n",
              "      <td>13.027800</td>\n",
              "      <td>0.0</td>\n",
              "      <td>0.000000</td>\n",
              "      <td>0.000000</td>\n",
              "      <td>0.000000</td>\n",
              "      <td>60.550726</td>\n",
              "    </tr>\n",
              "    <tr>\n",
              "      <th>SpecialDay</th>\n",
              "      <td>9864.0</td>\n",
              "      <td>0.055153</td>\n",
              "      <td>0.170220</td>\n",
              "      <td>0.0</td>\n",
              "      <td>0.000000</td>\n",
              "      <td>0.000000</td>\n",
              "      <td>0.000000</td>\n",
              "      <td>0.664855</td>\n",
              "    </tr>\n",
              "    <tr>\n",
              "      <th>VisitorType</th>\n",
              "      <td>9864.0</td>\n",
              "      <td>0.137368</td>\n",
              "      <td>0.344253</td>\n",
              "      <td>0.0</td>\n",
              "      <td>0.000000</td>\n",
              "      <td>0.000000</td>\n",
              "      <td>0.000000</td>\n",
              "      <td>1.000000</td>\n",
              "    </tr>\n",
              "    <tr>\n",
              "      <th>Weekend</th>\n",
              "      <td>9864.0</td>\n",
              "      <td>0.233577</td>\n",
              "      <td>0.423127</td>\n",
              "      <td>0.0</td>\n",
              "      <td>0.000000</td>\n",
              "      <td>0.000000</td>\n",
              "      <td>0.000000</td>\n",
              "      <td>1.000000</td>\n",
              "    </tr>\n",
              "  </tbody>\n",
              "</table>\n",
              "</div>\n",
              "      <button class=\"colab-df-convert\" onclick=\"convertToInteractive('df-1f7646f4-1d9f-4d58-a778-ae4a33f99813')\"\n",
              "              title=\"Convert this dataframe to an interactive table.\"\n",
              "              style=\"display:none;\">\n",
              "        \n",
              "  <svg xmlns=\"http://www.w3.org/2000/svg\" height=\"24px\"viewBox=\"0 0 24 24\"\n",
              "       width=\"24px\">\n",
              "    <path d=\"M0 0h24v24H0V0z\" fill=\"none\"/>\n",
              "    <path d=\"M18.56 5.44l.94 2.06.94-2.06 2.06-.94-2.06-.94-.94-2.06-.94 2.06-2.06.94zm-11 1L8.5 8.5l.94-2.06 2.06-.94-2.06-.94L8.5 2.5l-.94 2.06-2.06.94zm10 10l.94 2.06.94-2.06 2.06-.94-2.06-.94-.94-2.06-.94 2.06-2.06.94z\"/><path d=\"M17.41 7.96l-1.37-1.37c-.4-.4-.92-.59-1.43-.59-.52 0-1.04.2-1.43.59L10.3 9.45l-7.72 7.72c-.78.78-.78 2.05 0 2.83L4 21.41c.39.39.9.59 1.41.59.51 0 1.02-.2 1.41-.59l7.78-7.78 2.81-2.81c.8-.78.8-2.07 0-2.86zM5.41 20L4 18.59l7.72-7.72 1.47 1.35L5.41 20z\"/>\n",
              "  </svg>\n",
              "      </button>\n",
              "      \n",
              "  <style>\n",
              "    .colab-df-container {\n",
              "      display:flex;\n",
              "      flex-wrap:wrap;\n",
              "      gap: 12px;\n",
              "    }\n",
              "\n",
              "    .colab-df-convert {\n",
              "      background-color: #E8F0FE;\n",
              "      border: none;\n",
              "      border-radius: 50%;\n",
              "      cursor: pointer;\n",
              "      display: none;\n",
              "      fill: #1967D2;\n",
              "      height: 32px;\n",
              "      padding: 0 0 0 0;\n",
              "      width: 32px;\n",
              "    }\n",
              "\n",
              "    .colab-df-convert:hover {\n",
              "      background-color: #E2EBFA;\n",
              "      box-shadow: 0px 1px 2px rgba(60, 64, 67, 0.3), 0px 1px 3px 1px rgba(60, 64, 67, 0.15);\n",
              "      fill: #174EA6;\n",
              "    }\n",
              "\n",
              "    [theme=dark] .colab-df-convert {\n",
              "      background-color: #3B4455;\n",
              "      fill: #D2E3FC;\n",
              "    }\n",
              "\n",
              "    [theme=dark] .colab-df-convert:hover {\n",
              "      background-color: #434B5C;\n",
              "      box-shadow: 0px 1px 3px 1px rgba(0, 0, 0, 0.15);\n",
              "      filter: drop-shadow(0px 1px 2px rgba(0, 0, 0, 0.3));\n",
              "      fill: #FFFFFF;\n",
              "    }\n",
              "  </style>\n",
              "\n",
              "      <script>\n",
              "        const buttonEl =\n",
              "          document.querySelector('#df-1f7646f4-1d9f-4d58-a778-ae4a33f99813 button.colab-df-convert');\n",
              "        buttonEl.style.display =\n",
              "          google.colab.kernel.accessAllowed ? 'block' : 'none';\n",
              "\n",
              "        async function convertToInteractive(key) {\n",
              "          const element = document.querySelector('#df-1f7646f4-1d9f-4d58-a778-ae4a33f99813');\n",
              "          const dataTable =\n",
              "            await google.colab.kernel.invokeFunction('convertToInteractive',\n",
              "                                                     [key], {});\n",
              "          if (!dataTable) return;\n",
              "\n",
              "          const docLinkHtml = 'Like what you see? Visit the ' +\n",
              "            '<a target=\"_blank\" href=https://colab.research.google.com/notebooks/data_table.ipynb>data table notebook</a>'\n",
              "            + ' to learn more about interactive tables.';\n",
              "          element.innerHTML = '';\n",
              "          dataTable['output_type'] = 'display_data';\n",
              "          await google.colab.output.renderOutput(dataTable, element);\n",
              "          const docLink = document.createElement('div');\n",
              "          docLink.innerHTML = docLinkHtml;\n",
              "          element.appendChild(docLink);\n",
              "        }\n",
              "      </script>\n",
              "    </div>\n",
              "  </div>\n",
              "  "
            ]
          },
          "metadata": {},
          "execution_count": 20
        }
      ],
      "source": [
        "X_train.describe().T"
      ]
    },
    {
      "cell_type": "markdown",
      "source": [
        "Berikut ini boxplot sebelum dilakukan _handling outliers_."
      ],
      "metadata": {
        "id": "9zttruGK9abk"
      }
    },
    {
      "cell_type": "markdown",
      "source": [
        "![Sebelum Handle Outliers.png](data:image/png;base64,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)"
      ],
      "metadata": {
        "id": "zLzFCkQ09tiy"
      }
    },
    {
      "cell_type": "markdown",
      "source": [
        "Berikut ini boxplot sesudah dilakukan _handling outliers_."
      ],
      "metadata": {
        "id": "8E8Zem7p-N-6"
      }
    },
    {
      "cell_type": "code",
      "source": [
        "from matplotlib import rcParams\n",
        "rcParams['figure.figsize'] = 12, 18\n",
        "\n",
        "df_num = X_train[num_var].columns\n",
        "for i in range(0, len(df_num)):\n",
        "    plt.subplot(5, 2, i + 1)\n",
        "    sns.boxplot(x = X_train[df_num[i]],\n",
        "                orient = 'h')\n",
        "    plt.title('Distribution of ' + df_num[i],\n",
        "              fontsize = 12,\n",
        "              fontweight = 'bold')\n",
        "    plt.tight_layout(pad = 2)"
      ],
      "metadata": {
        "colab": {
          "base_uri": "https://localhost:8080/",
          "height": 1000
        },
        "id": "9k4I_q_u8YFY",
        "outputId": "4a0908a2-dbc9-49be-9169-866482af07a8"
      },
      "execution_count": 21,
      "outputs": [
        {
          "output_type": "display_data",
          "data": {
            "text/plain": [
              "<Figure size 864x1296 with 10 Axes>"
            ],
            "image/png": "[encoded data removed]"
          },
          "metadata": {
            "needs_background": "light"
          }
        }
      ]
    },
    {
      "cell_type": "markdown",
      "metadata": {
        "id": "aKWANTmNDWK8"
      },
      "source": [
        "## 1.4. Feature Transformation"
      ]
    },
    {
      "cell_type": "markdown",
      "metadata": {
        "id": "vHiNQaJeNNjl"
      },
      "source": [
        "Kami menggunakan _Logarithmic Transformation_ untuk mengubah fitur numerikal terdistribusi menceng ke kanan menjadi terdistribusi lebih normal."
      ]
    },
    {
      "cell_type": "code",
      "execution_count": 22,
      "metadata": {
        "colab": {
          "base_uri": "https://localhost:8080/"
        },
        "id": "3ata8Jk1NgX3",
        "outputId": "528c9a38-8d33-4ac0-9d17-4ee564bd4659"
      },
      "outputs": [
        {
          "output_type": "stream",
          "name": "stdout",
          "text": [
            "                         skewness\n",
            "Administrative           1.532980\n",
            "Administrative_Duration  2.502657\n",
            "Informational            2.431558\n",
            "Informational_Duration   3.914098\n",
            "ProductRelated           2.101074\n",
            "ProductRelated_Duration  2.203411\n",
            "BounceRates              2.751998\n",
            "ExitRates                2.051905\n",
            "PageValues               3.021365\n",
            "SpecialDay               2.940334\n",
            "VisitorType              2.107202\n",
            "Weekend                  1.259561\n"
          ]
        }
      ],
      "source": [
        "# Melihat skewness dari setiap fitur sesudah log transformasi\n",
        "skewness = pd.DataFrame({'skewness': np.abs(X_train.skew())})\n",
        "print(skewness)"
      ]
    },
    {
      "cell_type": "markdown",
      "metadata": {
        "id": "M9H3_u5E-uTJ"
      },
      "source": [
        "- Dari output di atas, kita dapat melihat bahwa semua fitur numerikal memiliki _skewness_ yang tinggi (nilai absolut dari skewness > 1), sehingga perlu di-log transformasi."
      ]
    },
    {
      "cell_type": "code",
      "execution_count": 23,
      "metadata": {
        "id": "3uBBUlU2-OTp"
      },
      "outputs": [],
      "source": [
        "# Log transformasi pada fitur numerikal dengan skewness tinggi\n",
        "cols = ['Administrative', 'Administrative_Duration',\n",
        "        'Informational', 'Informational_Duration',\n",
        "        'ProductRelated', 'ProductRelated_Duration',\n",
        "        'BounceRates', 'ExitRates',\n",
        "        'PageValues', 'SpecialDay']\n",
        "\n",
        "for col in cols:\n",
        "    X_train[col] = np.log(X_train[col] + 1)"
      ]
    },
    {
      "cell_type": "markdown",
      "metadata": {
        "id": "nY9zRn2x-7sp"
      },
      "source": [
        "Kita menggunakan fungsi `np.log` untuk melakukan log transformasi pada variabel, dan menambahkan 1 untuk menghindari pembagian dengan nol. Setelah transformasi selesai, kita dapat memeriksa skewness kembali untuk memastikan bahwa nilai skewness sudah berkurang."
      ]
    },
    {
      "cell_type": "code",
      "execution_count": 24,
      "metadata": {
        "colab": {
          "base_uri": "https://localhost:8080/"
        },
        "id": "Exmoiwgj-cBJ",
        "outputId": "5e794b09-b889-4b3f-d9a1-39daa06b2a88"
      },
      "outputs": [
        {
          "output_type": "stream",
          "name": "stdout",
          "text": [
            "                         skewness\n",
            "Administrative           0.538036\n",
            "Administrative_Duration  0.237225\n",
            "Informational            1.868113\n",
            "Informational_Duration   1.882582\n",
            "ProductRelated           0.153651\n",
            "ProductRelated_Duration  1.470738\n",
            "BounceRates              2.690427\n",
            "ExitRates                1.964926\n",
            "PageValues               1.754545\n",
            "SpecialDay               2.876233\n",
            "VisitorType              2.107202\n",
            "Weekend                  1.259561\n"
          ]
        }
      ],
      "source": [
        "# Melihat skewness dari setiap fitur sesudah log transformasi\n",
        "skewness = pd.DataFrame({'skewness': np.abs(X_train.skew())})\n",
        "print(skewness)"
      ]
    },
    {
      "cell_type": "code",
      "execution_count": 25,
      "metadata": {
        "colab": {
          "base_uri": "https://localhost:8080/",
          "height": 332
        },
        "id": "gJefqOlg2LEw",
        "outputId": "638d9f89-a3a5-4f56-aad9-865e1c869e80"
      },
      "outputs": [
        {
          "output_type": "execute_result",
          "data": {
            "text/plain": [
              "                         min\n",
              "Administrative           0.0\n",
              "Administrative_Duration  0.0\n",
              "Informational            0.0\n",
              "Informational_Duration   0.0\n",
              "ProductRelated           0.0\n",
              "ProductRelated_Duration  0.0\n",
              "BounceRates              0.0\n",
              "ExitRates                0.0\n",
              "PageValues               0.0"
            ],
            "text/html": [
              "\n",
              "  <div id=\"df-1ee51c30-1828-4f19-871c-33e2eb52ea28\">\n",
              "    <div class=\"colab-df-container\">\n",
              "      <div>\n",
              "<style scoped>\n",
              "    .dataframe tbody tr th:only-of-type {\n",
              "        vertical-align: middle;\n",
              "    }\n",
              "\n",
              "    .dataframe tbody tr th {\n",
              "        vertical-align: top;\n",
              "    }\n",
              "\n",
              "    .dataframe thead th {\n",
              "        text-align: right;\n",
              "    }\n",
              "</style>\n",
              "<table border=\"1\" class=\"dataframe\">\n",
              "  <thead>\n",
              "    <tr style=\"text-align: right;\">\n",
              "      <th></th>\n",
              "      <th>min</th>\n",
              "    </tr>\n",
              "  </thead>\n",
              "  <tbody>\n",
              "    <tr>\n",
              "      <th>Administrative</th>\n",
              "      <td>0.0</td>\n",
              "    </tr>\n",
              "    <tr>\n",
              "      <th>Administrative_Duration</th>\n",
              "      <td>0.0</td>\n",
              "    </tr>\n",
              "    <tr>\n",
              "      <th>Informational</th>\n",
              "      <td>0.0</td>\n",
              "    </tr>\n",
              "    <tr>\n",
              "      <th>Informational_Duration</th>\n",
              "      <td>0.0</td>\n",
              "    </tr>\n",
              "    <tr>\n",
              "      <th>ProductRelated</th>\n",
              "      <td>0.0</td>\n",
              "    </tr>\n",
              "    <tr>\n",
              "      <th>ProductRelated_Duration</th>\n",
              "      <td>0.0</td>\n",
              "    </tr>\n",
              "    <tr>\n",
              "      <th>BounceRates</th>\n",
              "      <td>0.0</td>\n",
              "    </tr>\n",
              "    <tr>\n",
              "      <th>ExitRates</th>\n",
              "      <td>0.0</td>\n",
              "    </tr>\n",
              "    <tr>\n",
              "      <th>PageValues</th>\n",
              "      <td>0.0</td>\n",
              "    </tr>\n",
              "  </tbody>\n",
              "</table>\n",
              "</div>\n",
              "      <button class=\"colab-df-convert\" onclick=\"convertToInteractive('df-1ee51c30-1828-4f19-871c-33e2eb52ea28')\"\n",
              "              title=\"Convert this dataframe to an interactive table.\"\n",
              "              style=\"display:none;\">\n",
              "        \n",
              "  <svg xmlns=\"http://www.w3.org/2000/svg\" height=\"24px\"viewBox=\"0 0 24 24\"\n",
              "       width=\"24px\">\n",
              "    <path d=\"M0 0h24v24H0V0z\" fill=\"none\"/>\n",
              "    <path d=\"M18.56 5.44l.94 2.06.94-2.06 2.06-.94-2.06-.94-.94-2.06-.94 2.06-2.06.94zm-11 1L8.5 8.5l.94-2.06 2.06-.94-2.06-.94L8.5 2.5l-.94 2.06-2.06.94zm10 10l.94 2.06.94-2.06 2.06-.94-2.06-.94-.94-2.06-.94 2.06-2.06.94z\"/><path d=\"M17.41 7.96l-1.37-1.37c-.4-.4-.92-.59-1.43-.59-.52 0-1.04.2-1.43.59L10.3 9.45l-7.72 7.72c-.78.78-.78 2.05 0 2.83L4 21.41c.39.39.9.59 1.41.59.51 0 1.02-.2 1.41-.59l7.78-7.78 2.81-2.81c.8-.78.8-2.07 0-2.86zM5.41 20L4 18.59l7.72-7.72 1.47 1.35L5.41 20z\"/>\n",
              "  </svg>\n",
              "      </button>\n",
              "      \n",
              "  <style>\n",
              "    .colab-df-container {\n",
              "      display:flex;\n",
              "      flex-wrap:wrap;\n",
              "      gap: 12px;\n",
              "    }\n",
              "\n",
              "    .colab-df-convert {\n",
              "      background-color: #E8F0FE;\n",
              "      border: none;\n",
              "      border-radius: 50%;\n",
              "      cursor: pointer;\n",
              "      display: none;\n",
              "      fill: #1967D2;\n",
              "      height: 32px;\n",
              "      padding: 0 0 0 0;\n",
              "      width: 32px;\n",
              "    }\n",
              "\n",
              "    .colab-df-convert:hover {\n",
              "      background-color: #E2EBFA;\n",
              "      box-shadow: 0px 1px 2px rgba(60, 64, 67, 0.3), 0px 1px 3px 1px rgba(60, 64, 67, 0.15);\n",
              "      fill: #174EA6;\n",
              "    }\n",
              "\n",
              "    [theme=dark] .colab-df-convert {\n",
              "      background-color: #3B4455;\n",
              "      fill: #D2E3FC;\n",
              "    }\n",
              "\n",
              "    [theme=dark] .colab-df-convert:hover {\n",
              "      background-color: #434B5C;\n",
              "      box-shadow: 0px 1px 3px 1px rgba(0, 0, 0, 0.15);\n",
              "      filter: drop-shadow(0px 1px 2px rgba(0, 0, 0, 0.3));\n",
              "      fill: #FFFFFF;\n",
              "    }\n",
              "  </style>\n",
              "\n",
              "      <script>\n",
              "        const buttonEl =\n",
              "          document.querySelector('#df-1ee51c30-1828-4f19-871c-33e2eb52ea28 button.colab-df-convert');\n",
              "        buttonEl.style.display =\n",
              "          google.colab.kernel.accessAllowed ? 'block' : 'none';\n",
              "\n",
              "        async function convertToInteractive(key) {\n",
              "          const element = document.querySelector('#df-1ee51c30-1828-4f19-871c-33e2eb52ea28');\n",
              "          const dataTable =\n",
              "            await google.colab.kernel.invokeFunction('convertToInteractive',\n",
              "                                                     [key], {});\n",
              "          if (!dataTable) return;\n",
              "\n",
              "          const docLinkHtml = 'Like what you see? Visit the ' +\n",
              "            '<a target=\"_blank\" href=https://colab.research.google.com/notebooks/data_table.ipynb>data table notebook</a>'\n",
              "            + ' to learn more about interactive tables.';\n",
              "          element.innerHTML = '';\n",
              "          dataTable['output_type'] = 'display_data';\n",
              "          await google.colab.output.renderOutput(dataTable, element);\n",
              "          const docLink = document.createElement('div');\n",
              "          docLink.innerHTML = docLinkHtml;\n",
              "          element.appendChild(docLink);\n",
              "        }\n",
              "      </script>\n",
              "    </div>\n",
              "  </div>\n",
              "  "
            ]
          },
          "metadata": {},
          "execution_count": 25
        }
      ],
      "source": [
        "num = X_train[num_var].columns\n",
        "\n",
        "# Check Statistical Descriptive\n",
        "X_train[num[:-1]].describe().T[['min']]"
      ]
    },
    {
      "cell_type": "markdown",
      "metadata": {
        "id": "4JhnNmsbNg_J"
      },
      "source": [
        "Setelah itu, kami menggunakan _Min Max Scaler_ untuk menormalisasi data numerikal dalam rentang 0–1."
      ]
    },
    {
      "cell_type": "code",
      "execution_count": 26,
      "metadata": {
        "id": "dwfwzO7EN5aI"
      },
      "outputs": [],
      "source": [
        "from sklearn.preprocessing import MinMaxScaler\n",
        "\n",
        "# Membuat objek Min Max Scaler\n",
        "scaler = MinMaxScaler()\n",
        "\n",
        "# Melakukan normalisasi pada data numerik\n",
        "X_train[num_var] = scaler.fit_transform(X_train[num_var])"
      ]
    },
    {
      "cell_type": "code",
      "execution_count": 27,
      "metadata": {
        "colab": {
          "base_uri": "https://localhost:8080/",
          "height": 363
        },
        "id": "gfB0b6uV7LHD",
        "outputId": "6844afcb-77f5-4628-e299-34b29ef9ac32"
      },
      "outputs": [
        {
          "output_type": "execute_result",
          "data": {
            "text/plain": [
              "                          count      mean       std  min       25%       50%  \\\n",
              "Administrative           9864.0  0.306215  0.330826  0.0  0.000000  0.268116   \n",
              "Administrative_Duration  9864.0  0.357176  0.366095  0.0  0.000000  0.323766   \n",
              "Informational            9864.0  0.136125  0.281882  0.0  0.000000  0.000000   \n",
              "Informational_Duration   9864.0  0.134702  0.290197  0.0  0.000000  0.000000   \n",
              "ProductRelated           9864.0  0.564396  0.216662  0.0  0.407356  0.576807   \n",
              "ProductRelated_Duration  9864.0  0.674211  0.229506  0.0  0.592104  0.724600   \n",
              "BounceRates              9864.0  0.124288  0.250135  0.0  0.000000  0.019865   \n",
              "ExitRates                9864.0  0.234702  0.246775  0.0  0.082246  0.145443   \n",
              "PageValues               9864.0  0.148151  0.300110  0.0  0.000000  0.000000   \n",
              "SpecialDay               9864.0  0.085549  0.261182  0.0  0.000000  0.000000   \n",
              "\n",
              "                              75%  max  \n",
              "Administrative           0.622547  1.0  \n",
              "Administrative_Duration  0.705887  1.0  \n",
              "Informational            0.000000  1.0  \n",
              "Informational_Duration   0.000000  1.0  \n",
              "ProductRelated           0.717681  1.0  \n",
              "ProductRelated_Duration  0.824793  1.0  \n",
              "BounceRates              0.107901  1.0  \n",
              "ExitRates                0.282898  1.0  \n",
              "PageValues               0.000000  1.0  \n",
              "SpecialDay               0.000000  1.0  "
            ],
            "text/html": [
              "\n",
              "  <div id=\"df-5f9acf9f-c0f1-42ae-91f3-4063985cd3eb\">\n",
              "    <div class=\"colab-df-container\">\n",
              "      <div>\n",
              "<style scoped>\n",
              "    .dataframe tbody tr th:only-of-type {\n",
              "        vertical-align: middle;\n",
              "    }\n",
              "\n",
              "    .dataframe tbody tr th {\n",
              "        vertical-align: top;\n",
              "    }\n",
              "\n",
              "    .dataframe thead th {\n",
              "        text-align: right;\n",
              "    }\n",
              "</style>\n",
              "<table border=\"1\" class=\"dataframe\">\n",
              "  <thead>\n",
              "    <tr style=\"text-align: right;\">\n",
              "      <th></th>\n",
              "      <th>count</th>\n",
              "      <th>mean</th>\n",
              "      <th>std</th>\n",
              "      <th>min</th>\n",
              "      <th>25%</th>\n",
              "      <th>50%</th>\n",
              "      <th>75%</th>\n",
              "      <th>max</th>\n",
              "    </tr>\n",
              "  </thead>\n",
              "  <tbody>\n",
              "    <tr>\n",
              "      <th>Administrative</th>\n",
              "      <td>9864.0</td>\n",
              "      <td>0.306215</td>\n",
              "      <td>0.330826</td>\n",
              "      <td>0.0</td>\n",
              "      <td>0.000000</td>\n",
              "      <td>0.268116</td>\n",
              "      <td>0.622547</td>\n",
              "      <td>1.0</td>\n",
              "    </tr>\n",
              "    <tr>\n",
              "      <th>Administrative_Duration</th>\n",
              "      <td>9864.0</td>\n",
              "      <td>0.357176</td>\n",
              "      <td>0.366095</td>\n",
              "      <td>0.0</td>\n",
              "      <td>0.000000</td>\n",
              "      <td>0.323766</td>\n",
              "      <td>0.705887</td>\n",
              "      <td>1.0</td>\n",
              "    </tr>\n",
              "    <tr>\n",
              "      <th>Informational</th>\n",
              "      <td>9864.0</td>\n",
              "      <td>0.136125</td>\n",
              "      <td>0.281882</td>\n",
              "      <td>0.0</td>\n",
              "      <td>0.000000</td>\n",
              "      <td>0.000000</td>\n",
              "      <td>0.000000</td>\n",
              "      <td>1.0</td>\n",
              "    </tr>\n",
              "    <tr>\n",
              "      <th>Informational_Duration</th>\n",
              "      <td>9864.0</td>\n",
              "      <td>0.134702</td>\n",
              "      <td>0.290197</td>\n",
              "      <td>0.0</td>\n",
              "      <td>0.000000</td>\n",
              "      <td>0.000000</td>\n",
              "      <td>0.000000</td>\n",
              "      <td>1.0</td>\n",
              "    </tr>\n",
              "    <tr>\n",
              "      <th>ProductRelated</th>\n",
              "      <td>9864.0</td>\n",
              "      <td>0.564396</td>\n",
              "      <td>0.216662</td>\n",
              "      <td>0.0</td>\n",
              "      <td>0.407356</td>\n",
              "      <td>0.576807</td>\n",
              "      <td>0.717681</td>\n",
              "      <td>1.0</td>\n",
              "    </tr>\n",
              "    <tr>\n",
              "      <th>ProductRelated_Duration</th>\n",
              "      <td>9864.0</td>\n",
              "      <td>0.674211</td>\n",
              "      <td>0.229506</td>\n",
              "      <td>0.0</td>\n",
              "      <td>0.592104</td>\n",
              "      <td>0.724600</td>\n",
              "      <td>0.824793</td>\n",
              "      <td>1.0</td>\n",
              "    </tr>\n",
              "    <tr>\n",
              "      <th>BounceRates</th>\n",
              "      <td>9864.0</td>\n",
              "      <td>0.124288</td>\n",
              "      <td>0.250135</td>\n",
              "      <td>0.0</td>\n",
              "      <td>0.000000</td>\n",
              "      <td>0.019865</td>\n",
              "      <td>0.107901</td>\n",
              "      <td>1.0</td>\n",
              "    </tr>\n",
              "    <tr>\n",
              "      <th>ExitRates</th>\n",
              "      <td>9864.0</td>\n",
              "      <td>0.234702</td>\n",
              "      <td>0.246775</td>\n",
              "      <td>0.0</td>\n",
              "      <td>0.082246</td>\n",
              "      <td>0.145443</td>\n",
              "      <td>0.282898</td>\n",
              "      <td>1.0</td>\n",
              "    </tr>\n",
              "    <tr>\n",
              "      <th>PageValues</th>\n",
              "      <td>9864.0</td>\n",
              "      <td>0.148151</td>\n",
              "      <td>0.300110</td>\n",
              "      <td>0.0</td>\n",
              "      <td>0.000000</td>\n",
              "      <td>0.000000</td>\n",
              "      <td>0.000000</td>\n",
              "      <td>1.0</td>\n",
              "    </tr>\n",
              "    <tr>\n",
              "      <th>SpecialDay</th>\n",
              "      <td>9864.0</td>\n",
              "      <td>0.085549</td>\n",
              "      <td>0.261182</td>\n",
              "      <td>0.0</td>\n",
              "      <td>0.000000</td>\n",
              "      <td>0.000000</td>\n",
              "      <td>0.000000</td>\n",
              "      <td>1.0</td>\n",
              "    </tr>\n",
              "  </tbody>\n",
              "</table>\n",
              "</div>\n",
              "      <button class=\"colab-df-convert\" onclick=\"convertToInteractive('df-5f9acf9f-c0f1-42ae-91f3-4063985cd3eb')\"\n",
              "              title=\"Convert this dataframe to an interactive table.\"\n",
              "              style=\"display:none;\">\n",
              "        \n",
              "  <svg xmlns=\"http://www.w3.org/2000/svg\" height=\"24px\"viewBox=\"0 0 24 24\"\n",
              "       width=\"24px\">\n",
              "    <path d=\"M0 0h24v24H0V0z\" fill=\"none\"/>\n",
              "    <path d=\"M18.56 5.44l.94 2.06.94-2.06 2.06-.94-2.06-.94-.94-2.06-.94 2.06-2.06.94zm-11 1L8.5 8.5l.94-2.06 2.06-.94-2.06-.94L8.5 2.5l-.94 2.06-2.06.94zm10 10l.94 2.06.94-2.06 2.06-.94-2.06-.94-.94-2.06-.94 2.06-2.06.94z\"/><path d=\"M17.41 7.96l-1.37-1.37c-.4-.4-.92-.59-1.43-.59-.52 0-1.04.2-1.43.59L10.3 9.45l-7.72 7.72c-.78.78-.78 2.05 0 2.83L4 21.41c.39.39.9.59 1.41.59.51 0 1.02-.2 1.41-.59l7.78-7.78 2.81-2.81c.8-.78.8-2.07 0-2.86zM5.41 20L4 18.59l7.72-7.72 1.47 1.35L5.41 20z\"/>\n",
              "  </svg>\n",
              "      </button>\n",
              "      \n",
              "  <style>\n",
              "    .colab-df-container {\n",
              "      display:flex;\n",
              "      flex-wrap:wrap;\n",
              "      gap: 12px;\n",
              "    }\n",
              "\n",
              "    .colab-df-convert {\n",
              "      background-color: #E8F0FE;\n",
              "      border: none;\n",
              "      border-radius: 50%;\n",
              "      cursor: pointer;\n",
              "      display: none;\n",
              "      fill: #1967D2;\n",
              "      height: 32px;\n",
              "      padding: 0 0 0 0;\n",
              "      width: 32px;\n",
              "    }\n",
              "\n",
              "    .colab-df-convert:hover {\n",
              "      background-color: #E2EBFA;\n",
              "      box-shadow: 0px 1px 2px rgba(60, 64, 67, 0.3), 0px 1px 3px 1px rgba(60, 64, 67, 0.15);\n",
              "      fill: #174EA6;\n",
              "    }\n",
              "\n",
              "    [theme=dark] .colab-df-convert {\n",
              "      background-color: #3B4455;\n",
              "      fill: #D2E3FC;\n",
              "    }\n",
              "\n",
              "    [theme=dark] .colab-df-convert:hover {\n",
              "      background-color: #434B5C;\n",
              "      box-shadow: 0px 1px 3px 1px rgba(0, 0, 0, 0.15);\n",
              "      filter: drop-shadow(0px 1px 2px rgba(0, 0, 0, 0.3));\n",
              "      fill: #FFFFFF;\n",
              "    }\n",
              "  </style>\n",
              "\n",
              "      <script>\n",
              "        const buttonEl =\n",
              "          document.querySelector('#df-5f9acf9f-c0f1-42ae-91f3-4063985cd3eb button.colab-df-convert');\n",
              "        buttonEl.style.display =\n",
              "          google.colab.kernel.accessAllowed ? 'block' : 'none';\n",
              "\n",
              "        async function convertToInteractive(key) {\n",
              "          const element = document.querySelector('#df-5f9acf9f-c0f1-42ae-91f3-4063985cd3eb');\n",
              "          const dataTable =\n",
              "            await google.colab.kernel.invokeFunction('convertToInteractive',\n",
              "                                                     [key], {});\n",
              "          if (!dataTable) return;\n",
              "\n",
              "          const docLinkHtml = 'Like what you see? Visit the ' +\n",
              "            '<a target=\"_blank\" href=https://colab.research.google.com/notebooks/data_table.ipynb>data table notebook</a>'\n",
              "            + ' to learn more about interactive tables.';\n",
              "          element.innerHTML = '';\n",
              "          dataTable['output_type'] = 'display_data';\n",
              "          await google.colab.output.renderOutput(dataTable, element);\n",
              "          const docLink = document.createElement('div');\n",
              "          docLink.innerHTML = docLinkHtml;\n",
              "          element.appendChild(docLink);\n",
              "        }\n",
              "      </script>\n",
              "    </div>\n",
              "  </div>\n",
              "  "
            ]
          },
          "metadata": {},
          "execution_count": 27
        }
      ],
      "source": [
        "X_train[num_var].describe().T"
      ]
    },
    {
      "cell_type": "code",
      "execution_count": 28,
      "metadata": {
        "colab": {
          "base_uri": "https://localhost:8080/",
          "height": 112
        },
        "id": "IMXJ1oI6w58z",
        "outputId": "83ed9a47-31a3-499d-aa21-93fe143a98eb"
      },
      "outputs": [
        {
          "output_type": "execute_result",
          "data": {
            "text/plain": [
              "              count      mean       std  min  25%  50%  75%  max\n",
              "VisitorType  9864.0  0.137368  0.344253  0.0  0.0  0.0  0.0  1.0\n",
              "Weekend      9864.0  0.233577  0.423127  0.0  0.0  0.0  0.0  1.0"
            ],
            "text/html": [
              "\n",
              "  <div id=\"df-a1880a51-7f29-4986-960c-69ec864f3d6c\">\n",
              "    <div class=\"colab-df-container\">\n",
              "      <div>\n",
              "<style scoped>\n",
              "    .dataframe tbody tr th:only-of-type {\n",
              "        vertical-align: middle;\n",
              "    }\n",
              "\n",
              "    .dataframe tbody tr th {\n",
              "        vertical-align: top;\n",
              "    }\n",
              "\n",
              "    .dataframe thead th {\n",
              "        text-align: right;\n",
              "    }\n",
              "</style>\n",
              "<table border=\"1\" class=\"dataframe\">\n",
              "  <thead>\n",
              "    <tr style=\"text-align: right;\">\n",
              "      <th></th>\n",
              "      <th>count</th>\n",
              "      <th>mean</th>\n",
              "      <th>std</th>\n",
              "      <th>min</th>\n",
              "      <th>25%</th>\n",
              "      <th>50%</th>\n",
              "      <th>75%</th>\n",
              "      <th>max</th>\n",
              "    </tr>\n",
              "  </thead>\n",
              "  <tbody>\n",
              "    <tr>\n",
              "      <th>VisitorType</th>\n",
              "      <td>9864.0</td>\n",
              "      <td>0.137368</td>\n",
              "      <td>0.344253</td>\n",
              "      <td>0.0</td>\n",
              "      <td>0.0</td>\n",
              "      <td>0.0</td>\n",
              "      <td>0.0</td>\n",
              "      <td>1.0</td>\n",
              "    </tr>\n",
              "    <tr>\n",
              "      <th>Weekend</th>\n",
              "      <td>9864.0</td>\n",
              "      <td>0.233577</td>\n",
              "      <td>0.423127</td>\n",
              "      <td>0.0</td>\n",
              "      <td>0.0</td>\n",
              "      <td>0.0</td>\n",
              "      <td>0.0</td>\n",
              "      <td>1.0</td>\n",
              "    </tr>\n",
              "  </tbody>\n",
              "</table>\n",
              "</div>\n",
              "      <button class=\"colab-df-convert\" onclick=\"convertToInteractive('df-a1880a51-7f29-4986-960c-69ec864f3d6c')\"\n",
              "              title=\"Convert this dataframe to an interactive table.\"\n",
              "              style=\"display:none;\">\n",
              "        \n",
              "  <svg xmlns=\"http://www.w3.org/2000/svg\" height=\"24px\"viewBox=\"0 0 24 24\"\n",
              "       width=\"24px\">\n",
              "    <path d=\"M0 0h24v24H0V0z\" fill=\"none\"/>\n",
              "    <path d=\"M18.56 5.44l.94 2.06.94-2.06 2.06-.94-2.06-.94-.94-2.06-.94 2.06-2.06.94zm-11 1L8.5 8.5l.94-2.06 2.06-.94-2.06-.94L8.5 2.5l-.94 2.06-2.06.94zm10 10l.94 2.06.94-2.06 2.06-.94-2.06-.94-.94-2.06-.94 2.06-2.06.94z\"/><path d=\"M17.41 7.96l-1.37-1.37c-.4-.4-.92-.59-1.43-.59-.52 0-1.04.2-1.43.59L10.3 9.45l-7.72 7.72c-.78.78-.78 2.05 0 2.83L4 21.41c.39.39.9.59 1.41.59.51 0 1.02-.2 1.41-.59l7.78-7.78 2.81-2.81c.8-.78.8-2.07 0-2.86zM5.41 20L4 18.59l7.72-7.72 1.47 1.35L5.41 20z\"/>\n",
              "  </svg>\n",
              "      </button>\n",
              "      \n",
              "  <style>\n",
              "    .colab-df-container {\n",
              "      display:flex;\n",
              "      flex-wrap:wrap;\n",
              "      gap: 12px;\n",
              "    }\n",
              "\n",
              "    .colab-df-convert {\n",
              "      background-color: #E8F0FE;\n",
              "      border: none;\n",
              "      border-radius: 50%;\n",
              "      cursor: pointer;\n",
              "      display: none;\n",
              "      fill: #1967D2;\n",
              "      height: 32px;\n",
              "      padding: 0 0 0 0;\n",
              "      width: 32px;\n",
              "    }\n",
              "\n",
              "    .colab-df-convert:hover {\n",
              "      background-color: #E2EBFA;\n",
              "      box-shadow: 0px 1px 2px rgba(60, 64, 67, 0.3), 0px 1px 3px 1px rgba(60, 64, 67, 0.15);\n",
              "      fill: #174EA6;\n",
              "    }\n",
              "\n",
              "    [theme=dark] .colab-df-convert {\n",
              "      background-color: #3B4455;\n",
              "      fill: #D2E3FC;\n",
              "    }\n",
              "\n",
              "    [theme=dark] .colab-df-convert:hover {\n",
              "      background-color: #434B5C;\n",
              "      box-shadow: 0px 1px 3px 1px rgba(0, 0, 0, 0.15);\n",
              "      filter: drop-shadow(0px 1px 2px rgba(0, 0, 0, 0.3));\n",
              "      fill: #FFFFFF;\n",
              "    }\n",
              "  </style>\n",
              "\n",
              "      <script>\n",
              "        const buttonEl =\n",
              "          document.querySelector('#df-a1880a51-7f29-4986-960c-69ec864f3d6c button.colab-df-convert');\n",
              "        buttonEl.style.display =\n",
              "          google.colab.kernel.accessAllowed ? 'block' : 'none';\n",
              "\n",
              "        async function convertToInteractive(key) {\n",
              "          const element = document.querySelector('#df-a1880a51-7f29-4986-960c-69ec864f3d6c');\n",
              "          const dataTable =\n",
              "            await google.colab.kernel.invokeFunction('convertToInteractive',\n",
              "                                                     [key], {});\n",
              "          if (!dataTable) return;\n",
              "\n",
              "          const docLinkHtml = 'Like what you see? Visit the ' +\n",
              "            '<a target=\"_blank\" href=https://colab.research.google.com/notebooks/data_table.ipynb>data table notebook</a>'\n",
              "            + ' to learn more about interactive tables.';\n",
              "          element.innerHTML = '';\n",
              "          dataTable['output_type'] = 'display_data';\n",
              "          await google.colab.output.renderOutput(dataTable, element);\n",
              "          const docLink = document.createElement('div');\n",
              "          docLink.innerHTML = docLinkHtml;\n",
              "          element.appendChild(docLink);\n",
              "        }\n",
              "      </script>\n",
              "    </div>\n",
              "  </div>\n",
              "  "
            ]
          },
          "metadata": {},
          "execution_count": 28
        }
      ],
      "source": [
        "X_train[cat_var].describe().T"
      ]
    },
    {
      "cell_type": "code",
      "execution_count": 29,
      "metadata": {
        "colab": {
          "base_uri": "https://localhost:8080/",
          "height": 206
        },
        "id": "60Lh5mlo4fYs",
        "outputId": "d4b1f29b-15fc-47ab-f342-89761a9db06d"
      },
      "outputs": [
        {
          "output_type": "execute_result",
          "data": {
            "text/plain": [
              "                 count unique             top  freq\n",
              "Month             9864     10             May  2698\n",
              "OperatingSystems  9864      5         Android  5299\n",
              "Browser           9864      5          Chrome  6411\n",
              "Region            9864      9     DKI_Jakarta  3837\n",
              "TrafficType       9864      8  Direct_Traffic  3085"
            ],
            "text/html": [
              "\n",
              "  <div id=\"df-24444359-7e08-4491-9bc0-0aa56a983548\">\n",
              "    <div class=\"colab-df-container\">\n",
              "      <div>\n",
              "<style scoped>\n",
              "    .dataframe tbody tr th:only-of-type {\n",
              "        vertical-align: middle;\n",
              "    }\n",
              "\n",
              "    .dataframe tbody tr th {\n",
              "        vertical-align: top;\n",
              "    }\n",
              "\n",
              "    .dataframe thead th {\n",
              "        text-align: right;\n",
              "    }\n",
              "</style>\n",
              "<table border=\"1\" class=\"dataframe\">\n",
              "  <thead>\n",
              "    <tr style=\"text-align: right;\">\n",
              "      <th></th>\n",
              "      <th>count</th>\n",
              "      <th>unique</th>\n",
              "      <th>top</th>\n",
              "      <th>freq</th>\n",
              "    </tr>\n",
              "  </thead>\n",
              "  <tbody>\n",
              "    <tr>\n",
              "      <th>Month</th>\n",
              "      <td>9864</td>\n",
              "      <td>10</td>\n",
              "      <td>May</td>\n",
              "      <td>2698</td>\n",
              "    </tr>\n",
              "    <tr>\n",
              "      <th>OperatingSystems</th>\n",
              "      <td>9864</td>\n",
              "      <td>5</td>\n",
              "      <td>Android</td>\n",
              "      <td>5299</td>\n",
              "    </tr>\n",
              "    <tr>\n",
              "      <th>Browser</th>\n",
              "      <td>9864</td>\n",
              "      <td>5</td>\n",
              "      <td>Chrome</td>\n",
              "      <td>6411</td>\n",
              "    </tr>\n",
              "    <tr>\n",
              "      <th>Region</th>\n",
              "      <td>9864</td>\n",
              "      <td>9</td>\n",
              "      <td>DKI_Jakarta</td>\n",
              "      <td>3837</td>\n",
              "    </tr>\n",
              "    <tr>\n",
              "      <th>TrafficType</th>\n",
              "      <td>9864</td>\n",
              "      <td>8</td>\n",
              "      <td>Direct_Traffic</td>\n",
              "      <td>3085</td>\n",
              "    </tr>\n",
              "  </tbody>\n",
              "</table>\n",
              "</div>\n",
              "      <button class=\"colab-df-convert\" onclick=\"convertToInteractive('df-24444359-7e08-4491-9bc0-0aa56a983548')\"\n",
              "              title=\"Convert this dataframe to an interactive table.\"\n",
              "              style=\"display:none;\">\n",
              "        \n",
              "  <svg xmlns=\"http://www.w3.org/2000/svg\" height=\"24px\"viewBox=\"0 0 24 24\"\n",
              "       width=\"24px\">\n",
              "    <path d=\"M0 0h24v24H0V0z\" fill=\"none\"/>\n",
              "    <path d=\"M18.56 5.44l.94 2.06.94-2.06 2.06-.94-2.06-.94-.94-2.06-.94 2.06-2.06.94zm-11 1L8.5 8.5l.94-2.06 2.06-.94-2.06-.94L8.5 2.5l-.94 2.06-2.06.94zm10 10l.94 2.06.94-2.06 2.06-.94-2.06-.94-.94-2.06-.94 2.06-2.06.94z\"/><path d=\"M17.41 7.96l-1.37-1.37c-.4-.4-.92-.59-1.43-.59-.52 0-1.04.2-1.43.59L10.3 9.45l-7.72 7.72c-.78.78-.78 2.05 0 2.83L4 21.41c.39.39.9.59 1.41.59.51 0 1.02-.2 1.41-.59l7.78-7.78 2.81-2.81c.8-.78.8-2.07 0-2.86zM5.41 20L4 18.59l7.72-7.72 1.47 1.35L5.41 20z\"/>\n",
              "  </svg>\n",
              "      </button>\n",
              "      \n",
              "  <style>\n",
              "    .colab-df-container {\n",
              "      display:flex;\n",
              "      flex-wrap:wrap;\n",
              "      gap: 12px;\n",
              "    }\n",
              "\n",
              "    .colab-df-convert {\n",
              "      background-color: #E8F0FE;\n",
              "      border: none;\n",
              "      border-radius: 50%;\n",
              "      cursor: pointer;\n",
              "      display: none;\n",
              "      fill: #1967D2;\n",
              "      height: 32px;\n",
              "      padding: 0 0 0 0;\n",
              "      width: 32px;\n",
              "    }\n",
              "\n",
              "    .colab-df-convert:hover {\n",
              "      background-color: #E2EBFA;\n",
              "      box-shadow: 0px 1px 2px rgba(60, 64, 67, 0.3), 0px 1px 3px 1px rgba(60, 64, 67, 0.15);\n",
              "      fill: #174EA6;\n",
              "    }\n",
              "\n",
              "    [theme=dark] .colab-df-convert {\n",
              "      background-color: #3B4455;\n",
              "      fill: #D2E3FC;\n",
              "    }\n",
              "\n",
              "    [theme=dark] .colab-df-convert:hover {\n",
              "      background-color: #434B5C;\n",
              "      box-shadow: 0px 1px 3px 1px rgba(0, 0, 0, 0.15);\n",
              "      filter: drop-shadow(0px 1px 2px rgba(0, 0, 0, 0.3));\n",
              "      fill: #FFFFFF;\n",
              "    }\n",
              "  </style>\n",
              "\n",
              "      <script>\n",
              "        const buttonEl =\n",
              "          document.querySelector('#df-24444359-7e08-4491-9bc0-0aa56a983548 button.colab-df-convert');\n",
              "        buttonEl.style.display =\n",
              "          google.colab.kernel.accessAllowed ? 'block' : 'none';\n",
              "\n",
              "        async function convertToInteractive(key) {\n",
              "          const element = document.querySelector('#df-24444359-7e08-4491-9bc0-0aa56a983548');\n",
              "          const dataTable =\n",
              "            await google.colab.kernel.invokeFunction('convertToInteractive',\n",
              "                                                     [key], {});\n",
              "          if (!dataTable) return;\n",
              "\n",
              "          const docLinkHtml = 'Like what you see? Visit the ' +\n",
              "            '<a target=\"_blank\" href=https://colab.research.google.com/notebooks/data_table.ipynb>data table notebook</a>'\n",
              "            + ' to learn more about interactive tables.';\n",
              "          element.innerHTML = '';\n",
              "          dataTable['output_type'] = 'display_data';\n",
              "          await google.colab.output.renderOutput(dataTable, element);\n",
              "          const docLink = document.createElement('div');\n",
              "          docLink.innerHTML = docLinkHtml;\n",
              "          element.appendChild(docLink);\n",
              "        }\n",
              "      </script>\n",
              "    </div>\n",
              "  </div>\n",
              "  "
            ]
          },
          "metadata": {},
          "execution_count": 29
        }
      ],
      "source": [
        "X_train[['Month', 'OperatingSystems', 'Browser', 'Region', 'TrafficType']].describe().T"
      ]
    },
    {
      "cell_type": "markdown",
      "metadata": {
        "id": "vts07dedDV2p"
      },
      "source": [
        "## 1.5. Feature Encoding"
      ]
    },
    {
      "cell_type": "markdown",
      "metadata": {
        "id": "3NT-_DrCSl7v"
      },
      "source": [
        "Kita akan melakukan _feature encoding_ terhadap fitur `Month`, `OperatingSystems`, `Browser`, `Region`, dan `TrafficType` menggunakan _One-Hot Encoding_. Namun, sebelumnya, nilai masing-masing fitur diubah terlebih dahulu menjadi nilai yang lebih mudah dipahami."
      ]
    },
    {
      "cell_type": "code",
      "execution_count": 30,
      "metadata": {
        "colab": {
          "base_uri": "https://localhost:8080/"
        },
        "id": "YWmgCd-vnyi7",
        "outputId": "f6e05b20-7898-4519-d0d6-b654a914c547"
      },
      "outputs": [
        {
          "output_type": "execute_result",
          "data": {
            "text/plain": [
              "array(['May', 'Dec', 'Nov', 'Aug', 'Mar', 'Feb', 'Sep', 'Oct', 'Jul',\n",
              "       'Jun'], dtype=object)"
            ]
          },
          "metadata": {},
          "execution_count": 30
        }
      ],
      "source": [
        "# Untuk 'June' diubah menjadi 'Jun' agar lebih seragam\n",
        "X_train['Month'] = X_train['Month'].replace('June', 'Jun')\n",
        "X_train['Month'].unique()"
      ]
    },
    {
      "cell_type": "markdown",
      "metadata": {
        "id": "HFM1EMTBXHqE"
      },
      "source": [
        "### 1.5.1 One-Hot Encoding"
      ]
    },
    {
      "cell_type": "code",
      "execution_count": 31,
      "metadata": {
        "colab": {
          "base_uri": "https://localhost:8080/"
        },
        "id": "03LsWNykMS8_",
        "outputId": "2b634791-8451-4c4c-a4ae-55d3df926992"
      },
      "outputs": [
        {
          "output_type": "stream",
          "name": "stdout",
          "text": [
            "Jumlah fitur sesudah encoding: 49\n"
          ]
        }
      ],
      "source": [
        "# Melakukan one-hot encoding terhadap 'VisitorType'\n",
        "X_train = pd.get_dummies(X_train, columns = ['Month', 'OperatingSystems',\n",
        "                                             'Browser', 'Region', 'TrafficType'])\n",
        "print(f'Jumlah fitur sesudah encoding: {X_train.shape[1]}')"
      ]
    },
    {
      "cell_type": "code",
      "execution_count": 32,
      "metadata": {
        "colab": {
          "base_uri": "https://localhost:8080/"
        },
        "id": "xL6Mqh3xBv0e",
        "outputId": "0be36e5b-6035-4f33-f76b-9cd3b5035a6b"
      },
      "outputs": [
        {
          "output_type": "execute_result",
          "data": {
            "text/plain": [
              "Index(['Administrative', 'Administrative_Duration', 'Informational',\n",
              "       'Informational_Duration', 'ProductRelated', 'ProductRelated_Duration',\n",
              "       'BounceRates', 'ExitRates', 'PageValues', 'SpecialDay', 'VisitorType',\n",
              "       'Weekend', 'Month_Aug', 'Month_Dec', 'Month_Feb', 'Month_Jul',\n",
              "       'Month_Jun', 'Month_Mar', 'Month_May', 'Month_Nov', 'Month_Oct',\n",
              "       'Month_Sep', 'OperatingSystems_Android', 'OperatingSystems_Other',\n",
              "       'OperatingSystems_Windows', 'OperatingSystems_iOS',\n",
              "       'OperatingSystems_macOS', 'Browser_Chrome', 'Browser_Edge',\n",
              "       'Browser_Firefox', 'Browser_Other', 'Browser_Safari', 'Region_Bali',\n",
              "       'Region_Banten', 'Region_DI_Yogyakarta', 'Region_DKI_Jakarta',\n",
              "       'Region_Jawa_Barat', 'Region_Kalimantan_Timur',\n",
              "       'Region_Kalimantan_Utara', 'Region_Kepulauan_Riau', 'Region_Other',\n",
              "       'TrafficType_Direct_Traffic', 'TrafficType_Display_Advertising',\n",
              "       'TrafficType_Email_Marketing', 'TrafficType_Organic_Traffic',\n",
              "       'TrafficType_Other', 'TrafficType_Paid_Traffic',\n",
              "       'TrafficType_Referral_Traffic', 'TrafficType_Social_Traffic'],\n",
              "      dtype='object')"
            ]
          },
          "metadata": {},
          "execution_count": 32
        }
      ],
      "source": [
        "X_train.columns"
      ]
    },
    {
      "cell_type": "code",
      "execution_count": 33,
      "metadata": {
        "colab": {
          "base_uri": "https://localhost:8080/"
        },
        "id": "ZIGY-m3QJV4F",
        "outputId": "ced78cfe-4d98-46eb-85a2-60315f0b0732"
      },
      "outputs": [
        {
          "output_type": "stream",
          "name": "stdout",
          "text": [
            "Shapes of X_train\n",
            "Jumlah baris: 9864\n",
            "Jumlah kolom: 49\n"
          ]
        }
      ],
      "source": [
        "print('Shapes of X_train')\n",
        "print('Jumlah baris: {}'.format(X_train.shape[0]))\n",
        "print('Jumlah kolom: {}'.format(X_train.shape[1]))"
      ]
    },
    {
      "cell_type": "markdown",
      "source": [
        "Melakukan hal yang sama terhadap **X_test**"
      ],
      "metadata": {
        "id": "gRWbSojigTf6"
      }
    },
    {
      "cell_type": "code",
      "source": [
        "X_test['Month'] = X_test['Month'].replace('June', 'Jun')\n",
        "X_testing = pd.get_dummies(X_test, columns = ['Month', 'OperatingSystems',\n",
        "                                              'Browser', 'Region', 'TrafficType'])\n",
        "print('Shapes of X_test')\n",
        "print('Jumlah baris: {}'.format(X_testing.shape[0]))\n",
        "print('Jumlah kolom: {}'.format(X_testing.shape[1]))"
      ],
      "metadata": {
        "colab": {
          "base_uri": "https://localhost:8080/"
        },
        "id": "iP__RE2rgi1Y",
        "outputId": "7574af1e-844b-4b12-8168-81ebb23a074b"
      },
      "execution_count": 34,
      "outputs": [
        {
          "output_type": "stream",
          "name": "stdout",
          "text": [
            "Shapes of X_test\n",
            "Jumlah baris: 2466\n",
            "Jumlah kolom: 49\n"
          ]
        }
      ]
    },
    {
      "cell_type": "markdown",
      "metadata": {
        "id": "W8ALtrAcD4t0"
      },
      "source": [
        "## 1.6. Handle Class Imbalance"
      ]
    },
    {
      "cell_type": "markdown",
      "metadata": {
        "id": "e1SBh7w5OR7x"
      },
      "source": [
        "Terakhir, kami menggunakan metode Random Over-Sampling untuk _handle_ fitur target yang tidak seimbang dengan menambahkan jumlah sample pada minority class sehingga setara dengan majority class"
      ]
    },
    {
      "cell_type": "code",
      "execution_count": 35,
      "metadata": {
        "colab": {
          "base_uri": "https://localhost:8080/"
        },
        "id": "wkVZ5o5XQO1I",
        "outputId": "85597c37-eeda-419b-bedd-5dcb7eb3fcdc"
      },
      "outputs": [
        {
          "output_type": "stream",
          "name": "stdout",
          "text": [
            "0    8350\n",
            "1    8350\n",
            "Name: Purchase, dtype: int64\n"
          ]
        }
      ],
      "source": [
        "from imblearn.over_sampling import RandomOverSampler\n",
        "\n",
        "# Random Over Sampling\n",
        "oversampler = RandomOverSampler(random_state=400)\n",
        "X_resampled, y_resampled = oversampler.fit_resample(X_train, y_train)\n",
        "print(pd.Series(y_resampled).value_counts())\n"
      ]
    },
    {
      "cell_type": "markdown",
      "metadata": {
        "id": "KpfZFR8cCy2p"
      },
      "source": [
        "# 2. Feature Engineering"
      ]
    },
    {
      "cell_type": "markdown",
      "metadata": {
        "id": "o3Y-Uv5MEBeW"
      },
      "source": [
        "## 2.0. Check Features"
      ]
    },
    {
      "cell_type": "code",
      "execution_count": 36,
      "metadata": {
        "colab": {
          "base_uri": "https://localhost:8080/"
        },
        "id": "tbq4fY1jP_-2",
        "outputId": "7aeb8fbd-86c6-4d39-8a27-25d09e7033aa"
      },
      "outputs": [
        {
          "output_type": "stream",
          "name": "stdout",
          "text": [
            "Sesudah Konversi:\n",
            "Administrative                     float64\n",
            "Administrative_Duration            float64\n",
            "Informational                      float64\n",
            "Informational_Duration             float64\n",
            "ProductRelated                     float64\n",
            "ProductRelated_Duration            float64\n",
            "BounceRates                        float64\n",
            "ExitRates                          float64\n",
            "PageValues                         float64\n",
            "SpecialDay                         float64\n",
            "VisitorType                          int64\n",
            "Weekend                              int64\n",
            "Month_Aug                            uint8\n",
            "Month_Dec                            uint8\n",
            "Month_Feb                            uint8\n",
            "Month_Jul                            uint8\n",
            "Month_Jun                            uint8\n",
            "Month_Mar                            uint8\n",
            "Month_May                            uint8\n",
            "Month_Nov                            uint8\n",
            "Month_Oct                            uint8\n",
            "Month_Sep                            uint8\n",
            "OperatingSystems_Android             uint8\n",
            "OperatingSystems_Other               uint8\n",
            "OperatingSystems_Windows             uint8\n",
            "OperatingSystems_iOS                 uint8\n",
            "OperatingSystems_macOS               uint8\n",
            "Browser_Chrome                       uint8\n",
            "Browser_Edge                         uint8\n",
            "Browser_Firefox                      uint8\n",
            "Browser_Other                        uint8\n",
            "Browser_Safari                       uint8\n",
            "Region_Bali                          uint8\n",
            "Region_Banten                        uint8\n",
            "Region_DI_Yogyakarta                 uint8\n",
            "Region_DKI_Jakarta                   uint8\n",
            "Region_Jawa_Barat                    uint8\n",
            "Region_Kalimantan_Timur              uint8\n",
            "Region_Kalimantan_Utara              uint8\n",
            "Region_Kepulauan_Riau                uint8\n",
            "Region_Other                         uint8\n",
            "TrafficType_Direct_Traffic           uint8\n",
            "TrafficType_Display_Advertising      uint8\n",
            "TrafficType_Email_Marketing          uint8\n",
            "TrafficType_Organic_Traffic          uint8\n",
            "TrafficType_Other                    uint8\n",
            "TrafficType_Paid_Traffic             uint8\n",
            "TrafficType_Referral_Traffic         uint8\n",
            "TrafficType_Social_Traffic           uint8\n",
            "dtype: object\n",
            "\n"
          ]
        }
      ],
      "source": [
        "print(f'Sesudah Konversi:\\n{X_resampled.dtypes}\\n')"
      ]
    },
    {
      "cell_type": "code",
      "execution_count": 37,
      "metadata": {
        "colab": {
          "base_uri": "https://localhost:8080/"
        },
        "id": "w5NmvSLNqb_2",
        "outputId": "ecc6fac1-1f76-4520-b32d-8813abe8b9d5"
      },
      "outputs": [
        {
          "output_type": "stream",
          "name": "stdout",
          "text": [
            "(16700, 49) (16700,)\n",
            "X = 16700 baris\n",
            "y = 16700 baris\n"
          ]
        }
      ],
      "source": [
        "X = X_resampled\n",
        "y = y_resampled\n",
        "print(X.shape, y.shape)\n",
        "print(f'X = {X.shape[0]} baris\\ny = {y.shape[0]} baris')"
      ]
    },
    {
      "cell_type": "code",
      "execution_count": 38,
      "metadata": {
        "colab": {
          "base_uri": "https://localhost:8080/",
          "height": 270
        },
        "id": "igqiU6jemxZ4",
        "outputId": "c13a20ee-9a13-4772-d006-18e2f719548f"
      },
      "outputs": [
        {
          "output_type": "execute_result",
          "data": {
            "text/plain": [
              "       Administrative  Administrative_Duration  Informational  \\\n",
              "1385         0.000000                 0.000000       0.000000   \n",
              "2388         0.000000                 0.000000       0.000000   \n",
              "8580         0.268116                 0.000000       0.660262   \n",
              "10985        0.268116                 0.458445       0.967267   \n",
              "11201        0.000000                 0.000000       0.000000   \n",
              "\n",
              "       Informational_Duration  ProductRelated  ProductRelated_Duration  \\\n",
              "1385                 0.000000        0.543142                 0.692231   \n",
              "2388                 0.000000        0.215215                 0.430433   \n",
              "8580                 0.391392        0.832268                 0.811760   \n",
              "10985                0.787439        0.630568                 0.941046   \n",
              "11201                0.000000        0.469741                 0.692293   \n",
              "\n",
              "       BounceRates  ExitRates  PageValues  SpecialDay  VisitorType  Weekend  \\\n",
              "1385      0.170576   0.190124    0.000000         0.0            0        1   \n",
              "2388      0.000000   0.282898    0.000000         0.0            0        0   \n",
              "8580      0.070071   0.187092    0.000000         0.0            0        1   \n",
              "10985     0.000000   0.020671    0.749375         0.0            1        0   \n",
              "11201     0.000000   0.127439    0.797753         0.0            1        0   \n",
              "\n",
              "       Month_Aug  Month_Dec  Month_Feb  Month_Jul  Month_Jun  Month_Mar  \\\n",
              "1385           0          0          0          0          0          0   \n",
              "2388           0          0          0          0          0          1   \n",
              "8580           0          0          0          0          0          0   \n",
              "10985          0          0          0          0          0          1   \n",
              "11201          0          1          0          0          0          0   \n",
              "\n",
              "       Month_May  Month_Nov  Month_Oct  Month_Sep  OperatingSystems_Android  \\\n",
              "1385           1          0          0          0                         0   \n",
              "2388           0          0          0          0                         1   \n",
              "8580           0          1          0          0                         1   \n",
              "10985          0          0          0          0                         0   \n",
              "11201          0          0          0          0                         0   \n",
              "\n",
              "       OperatingSystems_Other  OperatingSystems_Windows  OperatingSystems_iOS  \\\n",
              "1385                        0                         0                     1   \n",
              "2388                        0                         0                     0   \n",
              "8580                        0                         0                     0   \n",
              "10985                       0                         1                     0   \n",
              "11201                       0                         1                     0   \n",
              "\n",
              "       OperatingSystems_macOS  Browser_Chrome  Browser_Edge  Browser_Firefox  \\\n",
              "1385                        0               1             0                0   \n",
              "2388                        0               0             0                1   \n",
              "8580                        0               0             0                0   \n",
              "10985                       0               0             0                0   \n",
              "11201                       0               0             0                0   \n",
              "\n",
              "       Browser_Other  Browser_Safari  Region_Bali  Region_Banten  \\\n",
              "1385               0               0            0              0   \n",
              "2388               0               0            0              0   \n",
              "8580               1               0            0              0   \n",
              "10985              0               1            0              0   \n",
              "11201              0               1            0              0   \n",
              "\n",
              "       Region_DI_Yogyakarta  Region_DKI_Jakarta  Region_Jawa_Barat  \\\n",
              "1385                      0                   0                  0   \n",
              "2388                      0                   1                  0   \n",
              "8580                      0                   1                  0   \n",
              "10985                     0                   1                  0   \n",
              "11201                     0                   0                  0   \n",
              "\n",
              "       Region_Kalimantan_Timur  Region_Kalimantan_Utara  \\\n",
              "1385                         0                        0   \n",
              "2388                         0                        0   \n",
              "8580                         0                        0   \n",
              "10985                        0                        0   \n",
              "11201                        1                        0   \n",
              "\n",
              "       Region_Kepulauan_Riau  Region_Other  TrafficType_Direct_Traffic  \\\n",
              "1385                       1             0                           0   \n",
              "2388                       0             0                           0   \n",
              "8580                       0             0                           0   \n",
              "10985                      0             0                           1   \n",
              "11201                      0             0                           1   \n",
              "\n",
              "       TrafficType_Display_Advertising  TrafficType_Email_Marketing  \\\n",
              "1385                                 0                            0   \n",
              "2388                                 0                            0   \n",
              "8580                                 0                            0   \n",
              "10985                                0                            0   \n",
              "11201                                0                            0   \n",
              "\n",
              "       TrafficType_Organic_Traffic  TrafficType_Other  \\\n",
              "1385                             1                  0   \n",
              "2388                             0                  0   \n",
              "8580                             0                  0   \n",
              "10985                            0                  0   \n",
              "11201                            0                  0   \n",
              "\n",
              "       TrafficType_Paid_Traffic  TrafficType_Referral_Traffic  \\\n",
              "1385                          0                             0   \n",
              "2388                          0                             0   \n",
              "8580                          0                             0   \n",
              "10985                         0                             0   \n",
              "11201                         0                             0   \n",
              "\n",
              "       TrafficType_Social_Traffic  Purchase  \n",
              "1385                            0         0  \n",
              "2388                            1         0  \n",
              "8580                            1         0  \n",
              "10985                           0         1  \n",
              "11201                           0         1  "
            ],
            "text/html": [
              "\n",
              "  <div id=\"df-f70a188b-bccd-4230-987f-7ea60607d0c5\">\n",
              "    <div class=\"colab-df-container\">\n",
              "      <div>\n",
              "<style scoped>\n",
              "    .dataframe tbody tr th:only-of-type {\n",
              "        vertical-align: middle;\n",
              "    }\n",
              "\n",
              "    .dataframe tbody tr th {\n",
              "        vertical-align: top;\n",
              "    }\n",
              "\n",
              "    .dataframe thead th {\n",
              "        text-align: right;\n",
              "    }\n",
              "</style>\n",
              "<table border=\"1\" class=\"dataframe\">\n",
              "  <thead>\n",
              "    <tr style=\"text-align: right;\">\n",
              "      <th></th>\n",
              "      <th>Administrative</th>\n",
              "      <th>Administrative_Duration</th>\n",
              "      <th>Informational</th>\n",
              "      <th>Informational_Duration</th>\n",
              "      <th>ProductRelated</th>\n",
              "      <th>ProductRelated_Duration</th>\n",
              "      <th>BounceRates</th>\n",
              "      <th>ExitRates</th>\n",
              "      <th>PageValues</th>\n",
              "      <th>SpecialDay</th>\n",
              "      <th>VisitorType</th>\n",
              "      <th>Weekend</th>\n",
              "      <th>Month_Aug</th>\n",
              "      <th>Month_Dec</th>\n",
              "      <th>Month_Feb</th>\n",
              "      <th>Month_Jul</th>\n",
              "      <th>Month_Jun</th>\n",
              "      <th>Month_Mar</th>\n",
              "      <th>Month_May</th>\n",
              "      <th>Month_Nov</th>\n",
              "      <th>Month_Oct</th>\n",
              "      <th>Month_Sep</th>\n",
              "      <th>OperatingSystems_Android</th>\n",
              "      <th>OperatingSystems_Other</th>\n",
              "      <th>OperatingSystems_Windows</th>\n",
              "      <th>OperatingSystems_iOS</th>\n",
              "      <th>OperatingSystems_macOS</th>\n",
              "      <th>Browser_Chrome</th>\n",
              "      <th>Browser_Edge</th>\n",
              "      <th>Browser_Firefox</th>\n",
              "      <th>Browser_Other</th>\n",
              "      <th>Browser_Safari</th>\n",
              "      <th>Region_Bali</th>\n",
              "      <th>Region_Banten</th>\n",
              "      <th>Region_DI_Yogyakarta</th>\n",
              "      <th>Region_DKI_Jakarta</th>\n",
              "      <th>Region_Jawa_Barat</th>\n",
              "      <th>Region_Kalimantan_Timur</th>\n",
              "      <th>Region_Kalimantan_Utara</th>\n",
              "      <th>Region_Kepulauan_Riau</th>\n",
              "      <th>Region_Other</th>\n",
              "      <th>TrafficType_Direct_Traffic</th>\n",
              "      <th>TrafficType_Display_Advertising</th>\n",
              "      <th>TrafficType_Email_Marketing</th>\n",
              "      <th>TrafficType_Organic_Traffic</th>\n",
              "      <th>TrafficType_Other</th>\n",
              "      <th>TrafficType_Paid_Traffic</th>\n",
              "      <th>TrafficType_Referral_Traffic</th>\n",
              "      <th>TrafficType_Social_Traffic</th>\n",
              "      <th>Purchase</th>\n",
              "    </tr>\n",
              "  </thead>\n",
              "  <tbody>\n",
              "    <tr>\n",
              "      <th>1385</th>\n",
              "      <td>0.000000</td>\n",
              "      <td>0.000000</td>\n",
              "      <td>0.000000</td>\n",
              "      <td>0.000000</td>\n",
              "      <td>0.543142</td>\n",
              "      <td>0.692231</td>\n",
              "      <td>0.170576</td>\n",
              "      <td>0.190124</td>\n",
              "      <td>0.000000</td>\n",
              "      <td>0.0</td>\n",
              "      <td>0</td>\n",
              "      <td>1</td>\n",
              "      <td>0</td>\n",
              "      <td>0</td>\n",
              "      <td>0</td>\n",
              "      <td>0</td>\n",
              "      <td>0</td>\n",
              "      <td>0</td>\n",
              "      <td>1</td>\n",
              "      <td>0</td>\n",
              "      <td>0</td>\n",
              "      <td>0</td>\n",
              "      <td>0</td>\n",
              "      <td>0</td>\n",
              "      <td>0</td>\n",
              "      <td>1</td>\n",
              "      <td>0</td>\n",
              "      <td>1</td>\n",
              "      <td>0</td>\n",
              "      <td>0</td>\n",
              "      <td>0</td>\n",
              "      <td>0</td>\n",
              "      <td>0</td>\n",
              "      <td>0</td>\n",
              "      <td>0</td>\n",
              "      <td>0</td>\n",
              "      <td>0</td>\n",
              "      <td>0</td>\n",
              "      <td>0</td>\n",
              "      <td>1</td>\n",
              "      <td>0</td>\n",
              "      <td>0</td>\n",
              "      <td>0</td>\n",
              "      <td>0</td>\n",
              "      <td>1</td>\n",
              "      <td>0</td>\n",
              "      <td>0</td>\n",
              "      <td>0</td>\n",
              "      <td>0</td>\n",
              "      <td>0</td>\n",
              "    </tr>\n",
              "    <tr>\n",
              "      <th>2388</th>\n",
              "      <td>0.000000</td>\n",
              "      <td>0.000000</td>\n",
              "      <td>0.000000</td>\n",
              "      <td>0.000000</td>\n",
              "      <td>0.215215</td>\n",
              "      <td>0.430433</td>\n",
              "      <td>0.000000</td>\n",
              "      <td>0.282898</td>\n",
              "      <td>0.000000</td>\n",
              "      <td>0.0</td>\n",
              "      <td>0</td>\n",
              "      <td>0</td>\n",
              "      <td>0</td>\n",
              "      <td>0</td>\n",
              "      <td>0</td>\n",
              "      <td>0</td>\n",
              "      <td>0</td>\n",
              "      <td>1</td>\n",
              "      <td>0</td>\n",
              "      <td>0</td>\n",
              "      <td>0</td>\n",
              "      <td>0</td>\n",
              "      <td>1</td>\n",
              "      <td>0</td>\n",
              "      <td>0</td>\n",
              "      <td>0</td>\n",
              "      <td>0</td>\n",
              "      <td>0</td>\n",
              "      <td>0</td>\n",
              "      <td>1</td>\n",
              "      <td>0</td>\n",
              "      <td>0</td>\n",
              "      <td>0</td>\n",
              "      <td>0</td>\n",
              "      <td>0</td>\n",
              "      <td>1</td>\n",
              "      <td>0</td>\n",
              "      <td>0</td>\n",
              "      <td>0</td>\n",
              "      <td>0</td>\n",
              "      <td>0</td>\n",
              "      <td>0</td>\n",
              "      <td>0</td>\n",
              "      <td>0</td>\n",
              "      <td>0</td>\n",
              "      <td>0</td>\n",
              "      <td>0</td>\n",
              "      <td>0</td>\n",
              "      <td>1</td>\n",
              "      <td>0</td>\n",
              "    </tr>\n",
              "    <tr>\n",
              "      <th>8580</th>\n",
              "      <td>0.268116</td>\n",
              "      <td>0.000000</td>\n",
              "      <td>0.660262</td>\n",
              "      <td>0.391392</td>\n",
              "      <td>0.832268</td>\n",
              "      <td>0.811760</td>\n",
              "      <td>0.070071</td>\n",
              "      <td>0.187092</td>\n",
              "      <td>0.000000</td>\n",
              "      <td>0.0</td>\n",
              "      <td>0</td>\n",
              "      <td>1</td>\n",
              "      <td>0</td>\n",
              "      <td>0</td>\n",
              "      <td>0</td>\n",
              "      <td>0</td>\n",
              "      <td>0</td>\n",
              "      <td>0</td>\n",
              "      <td>0</td>\n",
              "      <td>1</td>\n",
              "      <td>0</td>\n",
              "      <td>0</td>\n",
              "      <td>1</td>\n",
              "      <td>0</td>\n",
              "      <td>0</td>\n",
              "      <td>0</td>\n",
              "      <td>0</td>\n",
              "      <td>0</td>\n",
              "      <td>0</td>\n",
              "      <td>0</td>\n",
              "      <td>1</td>\n",
              "      <td>0</td>\n",
              "      <td>0</td>\n",
              "      <td>0</td>\n",
              "      <td>0</td>\n",
              "      <td>1</td>\n",
              "      <td>0</td>\n",
              "      <td>0</td>\n",
              "      <td>0</td>\n",
              "      <td>0</td>\n",
              "      <td>0</td>\n",
              "      <td>0</td>\n",
              "      <td>0</td>\n",
              "      <td>0</td>\n",
              "      <td>0</td>\n",
              "      <td>0</td>\n",
              "      <td>0</td>\n",
              "      <td>0</td>\n",
              "      <td>1</td>\n",
              "      <td>0</td>\n",
              "    </tr>\n",
              "    <tr>\n",
              "      <th>10985</th>\n",
              "      <td>0.268116</td>\n",
              "      <td>0.458445</td>\n",
              "      <td>0.967267</td>\n",
              "      <td>0.787439</td>\n",
              "      <td>0.630568</td>\n",
              "      <td>0.941046</td>\n",
              "      <td>0.000000</td>\n",
              "      <td>0.020671</td>\n",
              "      <td>0.749375</td>\n",
              "      <td>0.0</td>\n",
              "      <td>1</td>\n",
              "      <td>0</td>\n",
              "      <td>0</td>\n",
              "      <td>0</td>\n",
              "      <td>0</td>\n",
              "      <td>0</td>\n",
              "      <td>0</td>\n",
              "      <td>1</td>\n",
              "      <td>0</td>\n",
              "      <td>0</td>\n",
              "      <td>0</td>\n",
              "      <td>0</td>\n",
              "      <td>0</td>\n",
              "      <td>0</td>\n",
              "      <td>1</td>\n",
              "      <td>0</td>\n",
              "      <td>0</td>\n",
              "      <td>0</td>\n",
              "      <td>0</td>\n",
              "      <td>0</td>\n",
              "      <td>0</td>\n",
              "      <td>1</td>\n",
              "      <td>0</td>\n",
              "      <td>0</td>\n",
              "      <td>0</td>\n",
              "      <td>1</td>\n",
              "      <td>0</td>\n",
              "      <td>0</td>\n",
              "      <td>0</td>\n",
              "      <td>0</td>\n",
              "      <td>0</td>\n",
              "      <td>1</td>\n",
              "      <td>0</td>\n",
              "      <td>0</td>\n",
              "      <td>0</td>\n",
              "      <td>0</td>\n",
              "      <td>0</td>\n",
              "      <td>0</td>\n",
              "      <td>0</td>\n",
              "      <td>1</td>\n",
              "    </tr>\n",
              "    <tr>\n",
              "      <th>11201</th>\n",
              "      <td>0.000000</td>\n",
              "      <td>0.000000</td>\n",
              "      <td>0.000000</td>\n",
              "      <td>0.000000</td>\n",
              "      <td>0.469741</td>\n",
              "      <td>0.692293</td>\n",
              "      <td>0.000000</td>\n",
              "      <td>0.127439</td>\n",
              "      <td>0.797753</td>\n",
              "      <td>0.0</td>\n",
              "      <td>1</td>\n",
              "      <td>0</td>\n",
              "      <td>0</td>\n",
              "      <td>1</td>\n",
              "      <td>0</td>\n",
              "      <td>0</td>\n",
              "      <td>0</td>\n",
              "      <td>0</td>\n",
              "      <td>0</td>\n",
              "      <td>0</td>\n",
              "      <td>0</td>\n",
              "      <td>0</td>\n",
              "      <td>0</td>\n",
              "      <td>0</td>\n",
              "      <td>1</td>\n",
              "      <td>0</td>\n",
              "      <td>0</td>\n",
              "      <td>0</td>\n",
              "      <td>0</td>\n",
              "      <td>0</td>\n",
              "      <td>0</td>\n",
              "      <td>1</td>\n",
              "      <td>0</td>\n",
              "      <td>0</td>\n",
              "      <td>0</td>\n",
              "      <td>0</td>\n",
              "      <td>0</td>\n",
              "      <td>1</td>\n",
              "      <td>0</td>\n",
              "      <td>0</td>\n",
              "      <td>0</td>\n",
              "      <td>1</td>\n",
              "      <td>0</td>\n",
              "      <td>0</td>\n",
              "      <td>0</td>\n",
              "      <td>0</td>\n",
              "      <td>0</td>\n",
              "      <td>0</td>\n",
              "      <td>0</td>\n",
              "      <td>1</td>\n",
              "    </tr>\n",
              "  </tbody>\n",
              "</table>\n",
              "</div>\n",
              "      <button class=\"colab-df-convert\" onclick=\"convertToInteractive('df-f70a188b-bccd-4230-987f-7ea60607d0c5')\"\n",
              "              title=\"Convert this dataframe to an interactive table.\"\n",
              "              style=\"display:none;\">\n",
              "        \n",
              "  <svg xmlns=\"http://www.w3.org/2000/svg\" height=\"24px\"viewBox=\"0 0 24 24\"\n",
              "       width=\"24px\">\n",
              "    <path d=\"M0 0h24v24H0V0z\" fill=\"none\"/>\n",
              "    <path d=\"M18.56 5.44l.94 2.06.94-2.06 2.06-.94-2.06-.94-.94-2.06-.94 2.06-2.06.94zm-11 1L8.5 8.5l.94-2.06 2.06-.94-2.06-.94L8.5 2.5l-.94 2.06-2.06.94zm10 10l.94 2.06.94-2.06 2.06-.94-2.06-.94-.94-2.06-.94 2.06-2.06.94z\"/><path d=\"M17.41 7.96l-1.37-1.37c-.4-.4-.92-.59-1.43-.59-.52 0-1.04.2-1.43.59L10.3 9.45l-7.72 7.72c-.78.78-.78 2.05 0 2.83L4 21.41c.39.39.9.59 1.41.59.51 0 1.02-.2 1.41-.59l7.78-7.78 2.81-2.81c.8-.78.8-2.07 0-2.86zM5.41 20L4 18.59l7.72-7.72 1.47 1.35L5.41 20z\"/>\n",
              "  </svg>\n",
              "      </button>\n",
              "      \n",
              "  <style>\n",
              "    .colab-df-container {\n",
              "      display:flex;\n",
              "      flex-wrap:wrap;\n",
              "      gap: 12px;\n",
              "    }\n",
              "\n",
              "    .colab-df-convert {\n",
              "      background-color: #E8F0FE;\n",
              "      border: none;\n",
              "      border-radius: 50%;\n",
              "      cursor: pointer;\n",
              "      display: none;\n",
              "      fill: #1967D2;\n",
              "      height: 32px;\n",
              "      padding: 0 0 0 0;\n",
              "      width: 32px;\n",
              "    }\n",
              "\n",
              "    .colab-df-convert:hover {\n",
              "      background-color: #E2EBFA;\n",
              "      box-shadow: 0px 1px 2px rgba(60, 64, 67, 0.3), 0px 1px 3px 1px rgba(60, 64, 67, 0.15);\n",
              "      fill: #174EA6;\n",
              "    }\n",
              "\n",
              "    [theme=dark] .colab-df-convert {\n",
              "      background-color: #3B4455;\n",
              "      fill: #D2E3FC;\n",
              "    }\n",
              "\n",
              "    [theme=dark] .colab-df-convert:hover {\n",
              "      background-color: #434B5C;\n",
              "      box-shadow: 0px 1px 3px 1px rgba(0, 0, 0, 0.15);\n",
              "      filter: drop-shadow(0px 1px 2px rgba(0, 0, 0, 0.3));\n",
              "      fill: #FFFFFF;\n",
              "    }\n",
              "  </style>\n",
              "\n",
              "      <script>\n",
              "        const buttonEl =\n",
              "          document.querySelector('#df-f70a188b-bccd-4230-987f-7ea60607d0c5 button.colab-df-convert');\n",
              "        buttonEl.style.display =\n",
              "          google.colab.kernel.accessAllowed ? 'block' : 'none';\n",
              "\n",
              "        async function convertToInteractive(key) {\n",
              "          const element = document.querySelector('#df-f70a188b-bccd-4230-987f-7ea60607d0c5');\n",
              "          const dataTable =\n",
              "            await google.colab.kernel.invokeFunction('convertToInteractive',\n",
              "                                                     [key], {});\n",
              "          if (!dataTable) return;\n",
              "\n",
              "          const docLinkHtml = 'Like what you see? Visit the ' +\n",
              "            '<a target=\"_blank\" href=https://colab.research.google.com/notebooks/data_table.ipynb>data table notebook</a>'\n",
              "            + ' to learn more about interactive tables.';\n",
              "          element.innerHTML = '';\n",
              "          dataTable['output_type'] = 'display_data';\n",
              "          await google.colab.output.renderOutput(dataTable, element);\n",
              "          const docLink = document.createElement('div');\n",
              "          docLink.innerHTML = docLinkHtml;\n",
              "          element.appendChild(docLink);\n",
              "        }\n",
              "      </script>\n",
              "    </div>\n",
              "  </div>\n",
              "  "
            ]
          },
          "metadata": {},
          "execution_count": 38
        }
      ],
      "source": [
        "# Concatenate X_resampled dan y_resampled menjadi df_cleaned\n",
        "df_cleaned = pd.concat([X_resampled, y_resampled], axis=1)\n",
        "df_cleaned.sample(5)"
      ]
    },
    {
      "cell_type": "code",
      "execution_count": 39,
      "metadata": {
        "id": "OOSpLbN8m4Iu"
      },
      "outputs": [],
      "source": [
        "data = df_cleaned\n",
        "# Assign X and y\n",
        "X = data.drop('Purchase', axis = 1)\n",
        "y = data['Purchase']"
      ]
    },
    {
      "cell_type": "markdown",
      "metadata": {
        "id": "IEaelCh7seJ-"
      },
      "source": [
        "## 2.0. Feature Importance"
      ]
    },
    {
      "cell_type": "markdown",
      "metadata": {
        "id": "hWER7gH_s5S0"
      },
      "source": [
        "### Logistic Regression Feature Importance"
      ]
    },
    {
      "cell_type": "code",
      "execution_count": 40,
      "metadata": {
        "colab": {
          "base_uri": "https://localhost:8080/",
          "height": 1000
        },
        "id": "3uBhDzles8Fi",
        "outputId": "02ebe884-d480-4a00-913e-3f703bbfd726"
      },
      "outputs": [
        {
          "output_type": "stream",
          "name": "stdout",
          "text": [
            "Feature: Administrative, Score: -0.21\n",
            "Feature: Administrative_Duration, Score: 0.19\n",
            "Feature: Informational, Score: 0.84\n",
            "Feature: Informational_Duration, Score: -0.49\n",
            "Feature: ProductRelated, Score: 1.57\n",
            "Feature: ProductRelated_Duration, Score: -1.50\n",
            "Feature: BounceRates, Score: -1.38\n",
            "Feature: ExitRates, Score: -1.14\n",
            "Feature: PageValues, Score: 5.28\n",
            "Feature: SpecialDay, Score: 0.20\n",
            "Feature: VisitorType, Score: 0.39\n",
            "Feature: Weekend, Score: 0.03\n",
            "Feature: Month_Aug, Score: 0.44\n",
            "Feature: Month_Dec, Score: -0.29\n",
            "Feature: Month_Feb, Score: -1.39\n",
            "Feature: Month_Jul, Score: 0.54\n",
            "Feature: Month_Jun, Score: 0.11\n",
            "Feature: Month_Mar, Score: -0.59\n",
            "Feature: Month_May, Score: -0.95\n",
            "Feature: Month_Nov, Score: 1.25\n",
            "Feature: Month_Oct, Score: 0.04\n",
            "Feature: Month_Sep, Score: 0.85\n",
            "Feature: OperatingSystems_Android, Score: 0.05\n",
            "Feature: OperatingSystems_Other, Score: 0.52\n",
            "Feature: OperatingSystems_Windows, Score: -0.21\n",
            "Feature: OperatingSystems_iOS, Score: -0.13\n",
            "Feature: OperatingSystems_macOS, Score: -0.23\n",
            "Feature: Browser_Chrome, Score: -0.11\n",
            "Feature: Browser_Edge, Score: 0.03\n",
            "Feature: Browser_Firefox, Score: 0.07\n",
            "Feature: Browser_Other, Score: -0.16\n",
            "Feature: Browser_Safari, Score: 0.17\n",
            "Feature: Region_Bali, Score: -0.19\n",
            "Feature: Region_Banten, Score: 0.08\n",
            "Feature: Region_DI_Yogyakarta, Score: -0.20\n",
            "Feature: Region_DKI_Jakarta, Score: 0.10\n",
            "Feature: Region_Jawa_Barat, Score: 0.17\n",
            "Feature: Region_Kalimantan_Timur, Score: 0.11\n",
            "Feature: Region_Kalimantan_Utara, Score: 0.09\n",
            "Feature: Region_Kepulauan_Riau, Score: -0.01\n",
            "Feature: Region_Other, Score: -0.16\n",
            "Feature: TrafficType_Direct_Traffic, Score: 0.15\n",
            "Feature: TrafficType_Display_Advertising, Score: 0.01\n",
            "Feature: TrafficType_Email_Marketing, Score: 0.23\n",
            "Feature: TrafficType_Organic_Traffic, Score: -0.18\n",
            "Feature: TrafficType_Other, Score: 0.50\n",
            "Feature: TrafficType_Paid_Traffic, Score: 0.17\n",
            "Feature: TrafficType_Referral_Traffic, Score: -0.64\n",
            "Feature: TrafficType_Social_Traffic, Score: -0.25\n",
            "\n"
          ]
        },
        {
          "output_type": "display_data",
          "data": {
            "text/plain": [
              "<Figure size 2160x1440 with 1 Axes>"
            ],
            "image/png": "[encoded data removed]"
          },
          "metadata": {
            "needs_background": "light"
          }
        }
      ],
      "source": [
        "from sklearn.linear_model import LogisticRegression\n",
        "\n",
        "# Define dataset\n",
        "data = df_cleaned\n",
        "# Assign X and y\n",
        "X = data.drop('Purchase', axis = 1)\n",
        "y = data['Purchase']\n",
        "\n",
        "# Define and fit the model\n",
        "model = LogisticRegression()\n",
        "model.fit(X, y)\n",
        "# Get importance\n",
        "importance = model.coef_[0]\n",
        "\n",
        "# Summarize feature importance\n",
        "for i, col in enumerate(X.columns):\n",
        "    print('Feature: %s, Score: %.2f' % (col, importance[i]))\n",
        "print('')\n",
        "\n",
        "fig, ax = plt.subplots(figsize = (30, 20))\n",
        "cmap = plt.get_cmap('viridis')\n",
        "bars = ax.barh([x for x in range(len(importance))], importance, color = cmap(np.linspace(0, 1, len(importance))))\n",
        "ax.set_yticks(np.arange(len(importance)))\n",
        "ax.set_yticklabels(X.columns, ha = 'right')\n",
        "ax.set_title('Feature Importance', fontsize = 14)\n",
        "ax.set_xlabel('Score')\n",
        "plt.show()"
      ]
    },
    {
      "cell_type": "markdown",
      "metadata": {
        "id": "QEkHCnL1zKHM"
      },
      "source": [
        "Berdasarkan hasil dari Logistic Regression,\n",
        "- Fitur-fitur yang memiliki pengaruh positif terbesar dalam memprediksi target adalah:\n",
        "  - Fitur `PageValues` dengan koefisien sebesar 5,28, diikuti oleh `Month_Nov`, `Informational`, `Month_Jul`, `Month_Sep`, dan `ProductRelated`, sedangkan\n",
        "- Fitur-fitur yang memiliki pengaruh negatif terbesar adalah:\n",
        "  - Fitur `Month_Feb` dengan koefisien sebesar -1,39, diikuti oleh `BounceRates`, `Month_May`, `Month_Mar`, `Region_Other`, dan `ExitRates`."
      ]
    },
    {
      "cell_type": "markdown",
      "metadata": {
        "id": "pj4mlPLO5UXN"
      },
      "source": [
        "Note:\n",
        "- Skor positif menunjukkan fitur yang memprediksi label 1 (Purchase), sedangkan skor negatif menunjukkan fitur yang memprediksi label 0 (Not Purchase)."
      ]
    },
    {
      "cell_type": "markdown",
      "metadata": {
        "id": "atEWFbAgEBZ2"
      },
      "source": [
        "## 2.1. Feature Selection"
      ]
    },
    {
      "cell_type": "markdown",
      "metadata": {
        "id": "HOcCtEDpwG6-"
      },
      "source": [
        "_Feature selection_ adalah suatu proses memilih fitur yang relevan dengan cara membuang fitur yang tidak relevan terhadap target sebelum dimasukkan ke dalam _machine learning model_. Proses ini sangat penting dalam pengembangan _machine learning model_ karena berpengaruh pada akurasi dan performa model.\n",
        "\n"
      ]
    },
    {
      "cell_type": "code",
      "source": [
        "# Feature Grouping\n",
        "num = ['Administrative', 'Administrative_Duration',\n",
        "       'Informational', 'Informational_Duration',\n",
        "       'ProductRelated', 'ProductRelated_Duration',\n",
        "       'BounceRates', 'ExitRates',\n",
        "       'PageValues', 'SpecialDay']\n",
        "cat = ['VisitorType', 'Weekend',\n",
        "       'Month_Aug', 'Month_Dec', 'Month_Feb', 'Month_Jul', 'Month_Jun',\n",
        "       'Month_Mar', 'Month_May', 'Month_Nov', 'Month_Oct', 'Month_Sep',\n",
        "       'OperatingSystems_Android', 'OperatingSystems_Other', 'OperatingSystems_Windows', 'OperatingSystems_iOS', 'OperatingSystems_macOS',\n",
        "       'Browser_Chrome', 'Browser_Edge', 'Browser_Firefox', 'Browser_Other', 'Browser_Safari',\n",
        "       'Region_Bali', 'Region_Banten', 'Region_DI_Yogyakarta', 'Region_DKI_Jakarta', 'Region_Jawa_Barat',\n",
        "       'Region_Kalimantan_Timur', 'Region_Kalimantan_Utara', 'Region_Kepulauan_Riau', 'Region_Other',\n",
        "       'TrafficType_Direct_Traffic', 'TrafficType_Display_Advertising', 'TrafficType_Email_Marketing', 'TrafficType_Organic_Traffic',\n",
        "       'TrafficType_Other', 'TrafficType_Paid_Traffic', 'TrafficType_Referral_Traffic', 'TrafficType_Social_Traffic']\n",
        "target = 'Purchase'"
      ],
      "metadata": {
        "id": "IiyYi4Qkjfcf"
      },
      "execution_count": 41,
      "outputs": []
    },
    {
      "cell_type": "markdown",
      "source": [
        "## 2.1.1. Categorical Input, Categorical Output"
      ],
      "metadata": {
        "id": "AEZUDWZyqV3o"
      }
    },
    {
      "cell_type": "markdown",
      "source": [
        "- Chi-Squared test (contingency tables).\n",
        "- Mutual Information. In fact, mutual information is a powerful method that may prove useful for both categorical and numerical data, e.g. it is agnostic to the data types."
      ],
      "metadata": {
        "id": "KqQ-LPfDqRL9"
      }
    },
    {
      "cell_type": "markdown",
      "source": [
        "### 2.1.1.1. Chi-Squared Test"
      ],
      "metadata": {
        "id": "3jfxoP9gqz9a"
      }
    },
    {
      "cell_type": "code",
      "source": [
        "from sklearn.feature_selection import SelectKBest, chi2\n",
        "\n",
        "# Define dataset\n",
        "data = df_cleaned\n",
        "X = data[cat]\n",
        "y = data[target]\n",
        "k = 10\n",
        "\n",
        "# Select K best features using chi-squared test\n",
        "selector = SelectKBest(chi2, k = k)\n",
        "fit = selector.fit(X, y)\n",
        "\n",
        "# Get the selected feature indices\n",
        "selected_chi = X.columns[fit.get_support(indices = True)].tolist()\n",
        "selected_chi"
      ],
      "metadata": {
        "colab": {
          "base_uri": "https://localhost:8080/"
        },
        "id": "ykoUilzfn8hs",
        "outputId": "d2222174-650c-4b0c-d0c7-2c68e8a37948"
      },
      "execution_count": 42,
      "outputs": [
        {
          "output_type": "execute_result",
          "data": {
            "text/plain": [
              "['VisitorType',\n",
              " 'Month_Feb',\n",
              " 'Month_Mar',\n",
              " 'Month_May',\n",
              " 'Month_Nov',\n",
              " 'OperatingSystems_iOS',\n",
              " 'TrafficType_Direct_Traffic',\n",
              " 'TrafficType_Organic_Traffic',\n",
              " 'TrafficType_Referral_Traffic',\n",
              " 'TrafficType_Social_Traffic']"
            ]
          },
          "metadata": {},
          "execution_count": 42
        }
      ]
    },
    {
      "cell_type": "code",
      "source": [
        "# Create df\n",
        "df_scores = pd.DataFrame(fit.scores_, columns = ['Score'])\n",
        "df_columns = pd.DataFrame(X.columns, columns = ['Feature'])\n",
        "chi = pd.concat([df_columns, df_scores], axis = 1)\n",
        "\n",
        "# Print top k features\n",
        "print(chi.nlargest(k, 'Score'))"
      ],
      "metadata": {
        "colab": {
          "base_uri": "https://localhost:8080/"
        },
        "id": "8dn4BMyq44R3",
        "outputId": "b2dd38af-4235-4b17-b418-a3971dc002ff"
      },
      "execution_count": 43,
      "outputs": [
        {
          "output_type": "stream",
          "name": "stdout",
          "text": [
            "                         Feature       Score\n",
            "9                      Month_Nov  492.651718\n",
            "0                    VisitorType  248.167822\n",
            "31    TrafficType_Direct_Traffic  224.591484\n",
            "38    TrafficType_Social_Traffic  193.143281\n",
            "37  TrafficType_Referral_Traffic  192.533333\n",
            "15          OperatingSystems_iOS  163.636697\n",
            "8                      Month_May  160.400000\n",
            "34   TrafficType_Organic_Traffic  142.125517\n",
            "7                      Month_Mar  126.412836\n",
            "4                      Month_Feb  102.092025\n"
          ]
        }
      ]
    },
    {
      "cell_type": "markdown",
      "source": [
        "- Kita akan memilih fitur dengan skor > 140,0."
      ],
      "metadata": {
        "id": "OlHmg0FML_np"
      }
    },
    {
      "cell_type": "code",
      "execution_count": 44,
      "metadata": {
        "colab": {
          "base_uri": "https://localhost:8080/"
        },
        "outputId": "76beec48-2d0c-4a9f-a54e-f0f29d2ae8ae",
        "id": "YaRO2Kj8-Fsw"
      },
      "outputs": [
        {
          "output_type": "stream",
          "name": "stdout",
          "text": [
            "Top 8 features by chi2:\n",
            "['Month_Nov' 'VisitorType' 'TrafficType_Direct_Traffic'\n",
            " 'TrafficType_Social_Traffic' 'TrafficType_Referral_Traffic'\n",
            " 'OperatingSystems_iOS' 'Month_May' 'TrafficType_Organic_Traffic']\n",
            "\n",
            "Bottom 31 features by chi2:\n",
            "['Region_Kalimantan_Utara' 'Browser_Safari' 'Browser_Other'\n",
            " 'Browser_Chrome' 'Region_Banten' 'TrafficType_Paid_Traffic'\n",
            " 'Region_Other' 'OperatingSystems_Windows' 'OperatingSystems_Other'\n",
            " 'Region_Jawa_Barat' 'Month_Aug' 'Region_Bali' 'Region_Kalimantan_Timur'\n",
            " 'Month_Jul' 'Region_Kepulauan_Riau' 'Browser_Firefox'\n",
            " 'OperatingSystems_macOS' 'Region_DKI_Jakarta'\n",
            " 'TrafficType_Display_Advertising' 'Browser_Edge' 'Month_Jun' 'Weekend'\n",
            " 'Month_Sep' 'Month_Oct' 'TrafficType_Email_Marketing'\n",
            " 'Region_DI_Yogyakarta' 'Month_Dec' 'OperatingSystems_Android'\n",
            " 'TrafficType_Other' 'Month_Feb' 'Month_Mar']\n"
          ]
        }
      ],
      "source": [
        "keep_chi = chi.nlargest(8, 'Score') # Top 8 features\n",
        "list_chi = keep_chi['Feature'].unique()\n",
        "print(f'Top 8 features by chi2:\\n{list_chi}\\n')\n",
        "\n",
        "drop_chi = chi.nsmallest(31, 'Score') # Bottom 31 features\n",
        "list_drop_chi = drop_chi['Feature'].unique()\n",
        "print(f'Bottom 31 features by chi2:\\n{list_drop_chi}')"
      ]
    },
    {
      "cell_type": "markdown",
      "source": [
        "### 2.1.1.2. Mutual Information"
      ],
      "metadata": {
        "id": "rt5RCqI2nXIS"
      }
    },
    {
      "cell_type": "code",
      "source": [
        "from sklearn.feature_selection import SelectKBest, mutual_info_classif\n",
        "\n",
        "# Set random seed\n",
        "np.random.seed(40)\n",
        "\n",
        "# Define dataset\n",
        "data = df_cleaned\n",
        "X = data[cat]\n",
        "y = data[target]\n",
        "k = 10\n",
        "\n",
        "# Select K best features using Mutual Information\n",
        "selector = SelectKBest(mutual_info_classif, k = k)\n",
        "fit = selector.fit(X, y)\n",
        "\n",
        "# Get the selected feature indices\n",
        "selected_mi_cat = X.columns[fit.get_support(indices = True)].tolist()\n",
        "selected_mi_cat"
      ],
      "metadata": {
        "colab": {
          "base_uri": "https://localhost:8080/"
        },
        "id": "mGNdOJt0nXtP",
        "outputId": "a1c505ed-15f5-43b6-afb7-9824f5f6055e"
      },
      "execution_count": 45,
      "outputs": [
        {
          "output_type": "execute_result",
          "data": {
            "text/plain": [
              "['VisitorType',\n",
              " 'Month_Jun',\n",
              " 'Month_Nov',\n",
              " 'Month_Sep',\n",
              " 'OperatingSystems_Android',\n",
              " 'OperatingSystems_iOS',\n",
              " 'Region_Bali',\n",
              " 'TrafficType_Direct_Traffic',\n",
              " 'TrafficType_Display_Advertising',\n",
              " 'TrafficType_Referral_Traffic']"
            ]
          },
          "metadata": {},
          "execution_count": 45
        }
      ]
    },
    {
      "cell_type": "code",
      "source": [
        "# Create df\n",
        "df_scores = pd.DataFrame(fit.scores_, columns = ['Score'])\n",
        "df_columns = pd.DataFrame(X.columns, columns = ['Feature'])\n",
        "mi_cat = pd.concat([df_columns, df_scores], axis = 1)\n",
        "\n",
        "# Print top k features\n",
        "print(mi_cat.nlargest(k, 'Score'))"
      ],
      "metadata": {
        "colab": {
          "base_uri": "https://localhost:8080/"
        },
        "id": "1qHwMb_P_9R1",
        "outputId": "50b9aaa7-a962-4ef7-df75-5522c69d356f"
      },
      "execution_count": 46,
      "outputs": [
        {
          "output_type": "stream",
          "name": "stdout",
          "text": [
            "                            Feature     Score\n",
            "9                         Month_Nov  0.026460\n",
            "15             OperatingSystems_iOS  0.012849\n",
            "37     TrafficType_Referral_Traffic  0.012141\n",
            "12         OperatingSystems_Android  0.011560\n",
            "31       TrafficType_Direct_Traffic  0.009350\n",
            "0                       VisitorType  0.009175\n",
            "6                         Month_Jun  0.008935\n",
            "32  TrafficType_Display_Advertising  0.008149\n",
            "22                      Region_Bali  0.007351\n",
            "11                        Month_Sep  0.006167\n"
          ]
        }
      ]
    },
    {
      "cell_type": "markdown",
      "source": [
        "- Kita akan memilih fitur dengan skor > 0,009."
      ],
      "metadata": {
        "id": "jKPNXx2AMh9N"
      }
    },
    {
      "cell_type": "code",
      "source": [
        "keep_mi_cat = mi_cat.nlargest(6, 'Score') # Top 6 features\n",
        "list_mi_cat = keep_mi_cat['Feature'].unique()\n",
        "print(f'Top 6 categorical features by mi:\\n{list_mi_cat}\\n')\n",
        "\n",
        "drop_mi_cat = mi_cat.nsmallest(33, 'Score') # Bottom 33 features\n",
        "list_drop_mi_cat = drop_mi_cat['Feature'].unique()\n",
        "print(f'Bottom 33 categorical features by mi:\\n{list_drop_mi_cat}')"
      ],
      "metadata": {
        "colab": {
          "base_uri": "https://localhost:8080/"
        },
        "id": "KYWBaBq4_n3C",
        "outputId": "5d956a62-73b4-46cf-bbfa-ccbc902976d8"
      },
      "execution_count": 47,
      "outputs": [
        {
          "output_type": "stream",
          "name": "stdout",
          "text": [
            "Top 6 categorical features by mi:\n",
            "['Month_Nov' 'OperatingSystems_iOS' 'TrafficType_Referral_Traffic'\n",
            " 'OperatingSystems_Android' 'TrafficType_Direct_Traffic' 'VisitorType']\n",
            "\n",
            "Bottom 33 categorical features by mi:\n",
            "['Month_Aug' 'Month_Oct' 'OperatingSystems_macOS' 'Browser_Chrome'\n",
            " 'Browser_Safari' 'Region_DI_Yogyakarta' 'Region_DKI_Jakarta'\n",
            " 'Region_Kalimantan_Utara' 'Region_Kepulauan_Riau'\n",
            " 'TrafficType_Email_Marketing' 'TrafficType_Paid_Traffic'\n",
            " 'OperatingSystems_Other' 'Browser_Firefox' 'Month_Feb' 'Month_Jul'\n",
            " 'Region_Banten' 'Region_Jawa_Barat' 'OperatingSystems_Windows'\n",
            " 'Browser_Edge' 'Weekend' 'Month_Dec' 'Browser_Other'\n",
            " 'Region_Kalimantan_Timur' 'TrafficType_Other' 'Region_Other' 'Month_May'\n",
            " 'TrafficType_Social_Traffic' 'Month_Mar' 'TrafficType_Organic_Traffic'\n",
            " 'Month_Sep' 'Region_Bali' 'TrafficType_Display_Advertising' 'Month_Jun']\n"
          ]
        }
      ]
    },
    {
      "cell_type": "markdown",
      "source": [
        "## 2.1.2. Numerical Input, Categorical Output"
      ],
      "metadata": {
        "id": "Wgn-54BYqeVi"
      }
    },
    {
      "cell_type": "markdown",
      "source": [
        "- ANOVA correlation coefficient (linear).\n",
        "- Kendall’s rank coefficient (nonlinear). Kendall does assume that the categorical variable is ordinal."
      ],
      "metadata": {
        "id": "dgbmWLrjqJUB"
      }
    },
    {
      "cell_type": "markdown",
      "source": [
        "### 2.1.2.1. ANOVA F-Test"
      ],
      "metadata": {
        "id": "W_VAjt1Bm5jn"
      }
    },
    {
      "cell_type": "code",
      "source": [
        "from sklearn.feature_selection import SelectKBest, f_classif\n",
        "\n",
        "# Define dataset\n",
        "data = df_cleaned\n",
        "X = data[num]\n",
        "y = data[target]\n",
        "k = 5\n",
        "\n",
        "# Select K best features using ANOVA F-test\n",
        "selector = SelectKBest(f_classif, k = k)\n",
        "fit = selector.fit(X, y)\n",
        "\n",
        "# Get the selected feature indices\n",
        "selected_f = X.columns[fit.get_support(indices = True)].tolist()\n",
        "selected_f"
      ],
      "metadata": {
        "colab": {
          "base_uri": "https://localhost:8080/"
        },
        "id": "0XXtx762mbmg",
        "outputId": "e52ac848-74ec-4d3e-9212-d305e52c7afc"
      },
      "execution_count": 48,
      "outputs": [
        {
          "output_type": "execute_result",
          "data": {
            "text/plain": [
              "['ProductRelated',\n",
              " 'ProductRelated_Duration',\n",
              " 'BounceRates',\n",
              " 'ExitRates',\n",
              " 'PageValues']"
            ]
          },
          "metadata": {},
          "execution_count": 48
        }
      ]
    },
    {
      "cell_type": "code",
      "source": [
        "# X is matrix feature, y is target feature\n",
        "f_scores, p_values = f_classif(X, y)\n",
        "\n",
        "fc = pd.DataFrame({'Feature': X.columns, 'F-Score': f_scores, 'p-value': p_values})\n",
        "fc.sort_values('F-Score', ascending = False, inplace = True)\n",
        "\n",
        "# Show top 5 the highest F-Score\n",
        "fc.head(5)"
      ],
      "metadata": {
        "colab": {
          "base_uri": "https://localhost:8080/",
          "height": 206
        },
        "id": "Y-AKVGbWC8-C",
        "outputId": "19c12e9f-0aca-47b8-ed1c-0469f2f399dc"
      },
      "execution_count": 49,
      "outputs": [
        {
          "output_type": "execute_result",
          "data": {
            "text/plain": [
              "                   Feature       F-Score        p-value\n",
              "8               PageValues  13189.464674   0.000000e+00\n",
              "7                ExitRates   2352.438804   0.000000e+00\n",
              "5  ProductRelated_Duration   1626.094803   0.000000e+00\n",
              "4           ProductRelated   1462.466214  8.158418e-307\n",
              "6              BounceRates   1320.428954  2.527808e-278"
            ],
            "text/html": [
              "\n",
              "  <div id=\"df-2d4161a6-1d88-404f-a35c-75caed33f5c3\">\n",
              "    <div class=\"colab-df-container\">\n",
              "      <div>\n",
              "<style scoped>\n",
              "    .dataframe tbody tr th:only-of-type {\n",
              "        vertical-align: middle;\n",
              "    }\n",
              "\n",
              "    .dataframe tbody tr th {\n",
              "        vertical-align: top;\n",
              "    }\n",
              "\n",
              "    .dataframe thead th {\n",
              "        text-align: right;\n",
              "    }\n",
              "</style>\n",
              "<table border=\"1\" class=\"dataframe\">\n",
              "  <thead>\n",
              "    <tr style=\"text-align: right;\">\n",
              "      <th></th>\n",
              "      <th>Feature</th>\n",
              "      <th>F-Score</th>\n",
              "      <th>p-value</th>\n",
              "    </tr>\n",
              "  </thead>\n",
              "  <tbody>\n",
              "    <tr>\n",
              "      <th>8</th>\n",
              "      <td>PageValues</td>\n",
              "      <td>13189.464674</td>\n",
              "      <td>0.000000e+00</td>\n",
              "    </tr>\n",
              "    <tr>\n",
              "      <th>7</th>\n",
              "      <td>ExitRates</td>\n",
              "      <td>2352.438804</td>\n",
              "      <td>0.000000e+00</td>\n",
              "    </tr>\n",
              "    <tr>\n",
              "      <th>5</th>\n",
              "      <td>ProductRelated_Duration</td>\n",
              "      <td>1626.094803</td>\n",
              "      <td>0.000000e+00</td>\n",
              "    </tr>\n",
              "    <tr>\n",
              "      <th>4</th>\n",
              "      <td>ProductRelated</td>\n",
              "      <td>1462.466214</td>\n",
              "      <td>8.158418e-307</td>\n",
              "    </tr>\n",
              "    <tr>\n",
              "      <th>6</th>\n",
              "      <td>BounceRates</td>\n",
              "      <td>1320.428954</td>\n",
              "      <td>2.527808e-278</td>\n",
              "    </tr>\n",
              "  </tbody>\n",
              "</table>\n",
              "</div>\n",
              "      <button class=\"colab-df-convert\" onclick=\"convertToInteractive('df-2d4161a6-1d88-404f-a35c-75caed33f5c3')\"\n",
              "              title=\"Convert this dataframe to an interactive table.\"\n",
              "              style=\"display:none;\">\n",
              "        \n",
              "  <svg xmlns=\"http://www.w3.org/2000/svg\" height=\"24px\"viewBox=\"0 0 24 24\"\n",
              "       width=\"24px\">\n",
              "    <path d=\"M0 0h24v24H0V0z\" fill=\"none\"/>\n",
              "    <path d=\"M18.56 5.44l.94 2.06.94-2.06 2.06-.94-2.06-.94-.94-2.06-.94 2.06-2.06.94zm-11 1L8.5 8.5l.94-2.06 2.06-.94-2.06-.94L8.5 2.5l-.94 2.06-2.06.94zm10 10l.94 2.06.94-2.06 2.06-.94-2.06-.94-.94-2.06-.94 2.06-2.06.94z\"/><path d=\"M17.41 7.96l-1.37-1.37c-.4-.4-.92-.59-1.43-.59-.52 0-1.04.2-1.43.59L10.3 9.45l-7.72 7.72c-.78.78-.78 2.05 0 2.83L4 21.41c.39.39.9.59 1.41.59.51 0 1.02-.2 1.41-.59l7.78-7.78 2.81-2.81c.8-.78.8-2.07 0-2.86zM5.41 20L4 18.59l7.72-7.72 1.47 1.35L5.41 20z\"/>\n",
              "  </svg>\n",
              "      </button>\n",
              "      \n",
              "  <style>\n",
              "    .colab-df-container {\n",
              "      display:flex;\n",
              "      flex-wrap:wrap;\n",
              "      gap: 12px;\n",
              "    }\n",
              "\n",
              "    .colab-df-convert {\n",
              "      background-color: #E8F0FE;\n",
              "      border: none;\n",
              "      border-radius: 50%;\n",
              "      cursor: pointer;\n",
              "      display: none;\n",
              "      fill: #1967D2;\n",
              "      height: 32px;\n",
              "      padding: 0 0 0 0;\n",
              "      width: 32px;\n",
              "    }\n",
              "\n",
              "    .colab-df-convert:hover {\n",
              "      background-color: #E2EBFA;\n",
              "      box-shadow: 0px 1px 2px rgba(60, 64, 67, 0.3), 0px 1px 3px 1px rgba(60, 64, 67, 0.15);\n",
              "      fill: #174EA6;\n",
              "    }\n",
              "\n",
              "    [theme=dark] .colab-df-convert {\n",
              "      background-color: #3B4455;\n",
              "      fill: #D2E3FC;\n",
              "    }\n",
              "\n",
              "    [theme=dark] .colab-df-convert:hover {\n",
              "      background-color: #434B5C;\n",
              "      box-shadow: 0px 1px 3px 1px rgba(0, 0, 0, 0.15);\n",
              "      filter: drop-shadow(0px 1px 2px rgba(0, 0, 0, 0.3));\n",
              "      fill: #FFFFFF;\n",
              "    }\n",
              "  </style>\n",
              "\n",
              "      <script>\n",
              "        const buttonEl =\n",
              "          document.querySelector('#df-2d4161a6-1d88-404f-a35c-75caed33f5c3 button.colab-df-convert');\n",
              "        buttonEl.style.display =\n",
              "          google.colab.kernel.accessAllowed ? 'block' : 'none';\n",
              "\n",
              "        async function convertToInteractive(key) {\n",
              "          const element = document.querySelector('#df-2d4161a6-1d88-404f-a35c-75caed33f5c3');\n",
              "          const dataTable =\n",
              "            await google.colab.kernel.invokeFunction('convertToInteractive',\n",
              "                                                     [key], {});\n",
              "          if (!dataTable) return;\n",
              "\n",
              "          const docLinkHtml = 'Like what you see? Visit the ' +\n",
              "            '<a target=\"_blank\" href=https://colab.research.google.com/notebooks/data_table.ipynb>data table notebook</a>'\n",
              "            + ' to learn more about interactive tables.';\n",
              "          element.innerHTML = '';\n",
              "          dataTable['output_type'] = 'display_data';\n",
              "          await google.colab.output.renderOutput(dataTable, element);\n",
              "          const docLink = document.createElement('div');\n",
              "          docLink.innerHTML = docLinkHtml;\n",
              "          element.appendChild(docLink);\n",
              "        }\n",
              "      </script>\n",
              "    </div>\n",
              "  </div>\n",
              "  "
            ]
          },
          "metadata": {},
          "execution_count": 49
        }
      ]
    },
    {
      "cell_type": "code",
      "source": [
        "# Create df\n",
        "df_scores = pd.DataFrame(fit.scores_, columns = ['Score'])\n",
        "df_columns = pd.DataFrame(X.columns, columns = ['Feature'])\n",
        "anova = pd.concat([df_columns, df_scores], axis = 1)\n",
        "\n",
        "# Print top k features\n",
        "print(anova.nlargest(k, 'Score'))"
      ],
      "metadata": {
        "colab": {
          "base_uri": "https://localhost:8080/"
        },
        "id": "QVyhlBd0D4yE",
        "outputId": "ed524eb6-9e65-4b81-b238-b708e0d4f2ff"
      },
      "execution_count": 50,
      "outputs": [
        {
          "output_type": "stream",
          "name": "stdout",
          "text": [
            "                   Feature         Score\n",
            "8               PageValues  13189.464674\n",
            "7                ExitRates   2352.438804\n",
            "5  ProductRelated_Duration   1626.094803\n",
            "4           ProductRelated   1462.466214\n",
            "6              BounceRates   1320.428954\n"
          ]
        }
      ]
    },
    {
      "cell_type": "code",
      "source": [
        "keep_anova = anova.nlargest(5, 'Score') # Top 10 features\n",
        "list_anova = keep_anova['Feature'].unique()\n",
        "print(f'Top 5 features by anova:\\n{list_anova}\\n')\n",
        "\n",
        "drop_anova = anova.nsmallest(5, 'Score') # Bottom 39 features\n",
        "list_drop_anova = drop_anova['Feature'].unique()\n",
        "print(f'Bottom 5 features by anova:\\n{list_drop_anova}')"
      ],
      "metadata": {
        "colab": {
          "base_uri": "https://localhost:8080/"
        },
        "id": "Z7E9HWw1D_8B",
        "outputId": "d6b35700-c9f6-4b76-8923-8e0e25323036"
      },
      "execution_count": 51,
      "outputs": [
        {
          "output_type": "stream",
          "name": "stdout",
          "text": [
            "Top 5 features by anova:\n",
            "['PageValues' 'ExitRates' 'ProductRelated_Duration' 'ProductRelated'\n",
            " 'BounceRates']\n",
            "\n",
            "Bottom 5 features by anova:\n",
            "['SpecialDay' 'Informational_Duration' 'Informational' 'Administrative'\n",
            " 'Administrative_Duration']\n"
          ]
        }
      ]
    },
    {
      "cell_type": "markdown",
      "source": [
        "### 2.1.2.2. Mutual Information"
      ],
      "metadata": {
        "id": "jOp7ErCbr43J"
      }
    },
    {
      "cell_type": "code",
      "source": [
        "from sklearn.feature_selection import SelectKBest, mutual_info_classif\n",
        "\n",
        "# Set random seed\n",
        "np.random.seed(400)\n",
        "\n",
        "# Define dataset\n",
        "data = df_cleaned\n",
        "X = data[num]\n",
        "y = data[target]\n",
        "k = 5\n",
        "\n",
        "# Select K best features using Mutual Information\n",
        "selector = SelectKBest(mutual_info_classif, k = k)\n",
        "fit = selector.fit(X, y)\n",
        "\n",
        "# Get the selected feature indices\n",
        "selected_mi_num = X.columns[fit.get_support(indices = True)].tolist()\n",
        "selected_mi_num"
      ],
      "metadata": {
        "colab": {
          "base_uri": "https://localhost:8080/"
        },
        "outputId": "8749afdd-b892-418f-f132-11d9eb2bdc4e",
        "id": "_VaS4m32r43J"
      },
      "execution_count": 52,
      "outputs": [
        {
          "output_type": "execute_result",
          "data": {
            "text/plain": [
              "['Administrative_Duration',\n",
              " 'ProductRelated_Duration',\n",
              " 'BounceRates',\n",
              " 'ExitRates',\n",
              " 'PageValues']"
            ]
          },
          "metadata": {},
          "execution_count": 52
        }
      ]
    },
    {
      "cell_type": "code",
      "source": [
        "# Create df\n",
        "df_scores = pd.DataFrame(fit.scores_, columns = ['Score'])\n",
        "df_columns = pd.DataFrame(X.columns, columns = ['Feature'])\n",
        "mi_num = pd.concat([df_columns, df_scores], axis = 1)\n",
        "\n",
        "# Print top k features\n",
        "print(mi_num.nlargest(k, 'Score'))"
      ],
      "metadata": {
        "colab": {
          "base_uri": "https://localhost:8080/"
        },
        "id": "GKVephNgA2NK",
        "outputId": "a824d4f3-fa0c-47bb-ed44-8949e25ce219"
      },
      "execution_count": 53,
      "outputs": [
        {
          "output_type": "stream",
          "name": "stdout",
          "text": [
            "                   Feature     Score\n",
            "5  ProductRelated_Duration  0.384266\n",
            "8               PageValues  0.315699\n",
            "7                ExitRates  0.265771\n",
            "1  Administrative_Duration  0.165966\n",
            "6              BounceRates  0.130853\n"
          ]
        }
      ]
    },
    {
      "cell_type": "code",
      "source": [
        "keep_mi_num = mi_num.nlargest(5, 'Score') # Top 5 features\n",
        "list_mi_num = keep_mi_num['Feature'].unique()\n",
        "print(f'Top 5 numerical features by mi:\\n{list_mi_num}\\n')\n",
        "\n",
        "drop_mi_num = mi_num.nsmallest(5, 'Score') # Bottom 5 features\n",
        "list_drop_mi_num = drop_mi_num['Feature'].unique()\n",
        "print(f'Bottom 5 numerical features by mi:\\n{list_drop_mi_num}')"
      ],
      "metadata": {
        "colab": {
          "base_uri": "https://localhost:8080/"
        },
        "id": "mcKp-tNbA-gZ",
        "outputId": "12a6f3cb-ef12-4464-c8ff-d1c55e844d09"
      },
      "execution_count": 54,
      "outputs": [
        {
          "output_type": "stream",
          "name": "stdout",
          "text": [
            "Top 5 numerical features by mi:\n",
            "['ProductRelated_Duration' 'PageValues' 'ExitRates'\n",
            " 'Administrative_Duration' 'BounceRates']\n",
            "\n",
            "Bottom 5 numerical features by mi:\n",
            "['SpecialDay' 'Informational' 'Administrative' 'Informational_Duration'\n",
            " 'ProductRelated']\n"
          ]
        }
      ]
    },
    {
      "cell_type": "markdown",
      "source": [
        "## 2.1.3. Summary"
      ],
      "metadata": {
        "id": "8xECTn8zFd3R"
      }
    },
    {
      "cell_type": "code",
      "source": [
        "list_selected_features = ['ProductRelated', 'ProductRelated_Duration', 'Administrative_Duration', 'BounceRates', 'ExitRates', 'PageValues',\n",
        "                          'VisitorType', 'Month_May', 'Month_Nov', 'OperatingSystems_Android', 'OperatingSystems_iOS',\n",
        "                          'TrafficType_Direct_Traffic', 'TrafficType_Organic_Traffic', 'TrafficType_Referral_Traffic', 'TrafficType_Social_Traffic']\n",
        "len(list_selected_features)"
      ],
      "metadata": {
        "colab": {
          "base_uri": "https://localhost:8080/"
        },
        "id": "GB1onhwEF7X_",
        "outputId": "d04e8ca3-c6f2-4103-fee5-fab655d8aca5"
      },
      "execution_count": 55,
      "outputs": [
        {
          "output_type": "execute_result",
          "data": {
            "text/plain": [
              "15"
            ]
          },
          "metadata": {},
          "execution_count": 55
        }
      ]
    },
    {
      "cell_type": "code",
      "source": [
        "data = df_cleaned\n",
        "X_train = data.drop(target, axis = 1)\n",
        "y_train = data[target]"
      ],
      "metadata": {
        "id": "FEghea1-ctH3"
      },
      "execution_count": 56,
      "outputs": []
    },
    {
      "cell_type": "code",
      "source": [
        "# Check the shapes before feature selection\n",
        "print(f'Shape of X_train: {X_train.shape}')\n",
        "print(f'Shape of y_train: {y_train.shape}')\n",
        "print(f'Shape of X_test : {X_test.shape}')\n",
        "print(f'Shape of y_test : {y_test.shape}')"
      ],
      "metadata": {
        "colab": {
          "base_uri": "https://localhost:8080/"
        },
        "id": "KpMv23zscRl0",
        "outputId": "eb31aabd-aefa-45d8-89d5-c39b28286dd2"
      },
      "execution_count": 57,
      "outputs": [
        {
          "output_type": "stream",
          "name": "stdout",
          "text": [
            "Shape of X_train: (16700, 49)\n",
            "Shape of y_train: (16700,)\n",
            "Shape of X_test : (2466, 17)\n",
            "Shape of y_test : (2466,)\n"
          ]
        }
      ]
    },
    {
      "cell_type": "code",
      "source": [
        "X_training = df_cleaned[list_selected_features]\n",
        "y_training = df_cleaned[target]"
      ],
      "metadata": {
        "id": "QvYKl5syXU9q"
      },
      "execution_count": 58,
      "outputs": []
    },
    {
      "cell_type": "code",
      "source": [
        "X_testing = X_testing[list_selected_features]\n",
        "y_testing = y_test"
      ],
      "metadata": {
        "id": "W9z2H8BOfofR"
      },
      "execution_count": 59,
      "outputs": []
    },
    {
      "cell_type": "code",
      "source": [
        "# Check the shapes after feature selection\n",
        "print(f'Shape of X_train: {X_training.shape}')\n",
        "print(f'Shape of y_train: {y_training.shape}')\n",
        "print(f'Shape of X_test : {X_testing.shape}')\n",
        "print(f'Shape of y_test : {y_testing.shape}')"
      ],
      "metadata": {
        "colab": {
          "base_uri": "https://localhost:8080/"
        },
        "id": "nxGNbgnHboQA",
        "outputId": "e331d555-5675-426f-9d60-441043eb7f23"
      },
      "execution_count": 60,
      "outputs": [
        {
          "output_type": "stream",
          "name": "stdout",
          "text": [
            "Shape of X_train: (16700, 15)\n",
            "Shape of y_train: (16700,)\n",
            "Shape of X_test : (2466, 15)\n",
            "Shape of y_test : (2466,)\n"
          ]
        }
      ]
    },
    {
      "cell_type": "code",
      "source": [
        "# Concatenate\n",
        "train = pd.concat([X_training, y_training], axis = 1)\n",
        "test = pd.concat([X_testing, y_testing], axis = 1)"
      ],
      "metadata": {
        "id": "3oFffgpFjSre"
      },
      "execution_count": 61,
      "outputs": []
    },
    {
      "cell_type": "code",
      "source": [
        "# Set folder path\n",
        "folder_path = '/content/drive/MyDrive/'\n",
        "\n",
        "# Save train and test sets to CSV\n",
        "# train.to_csv(folder_path + 'online_shoppers_intention_train.csv', index = False)\n",
        "# test.to_csv(folder_path + 'online_shoppers_intention_test.csv', index = False)"
      ],
      "metadata": {
        "id": "26Xz8ausl2tj"
      },
      "execution_count": 62,
      "outputs": []
    },
    {
      "cell_type": "markdown",
      "metadata": {
        "id": "DUuEQR8oEBVW"
      },
      "source": [
        "## 2.2. Feature Extraction"
      ]
    },
    {
      "cell_type": "markdown",
      "metadata": {
        "id": "3WiLNDQrXbnz"
      },
      "source": [
        "Kami mencari interaksi fitur dan melakukan agregasi terhadap beberapa fitur. Khususnya, kami ingin mencari kemungkinan interaksi fitur dengan `PageValues`, yang kami anggap penting untuk kasus ini."
      ]
    },
    {
      "cell_type": "markdown",
      "metadata": {
        "id": "ZwPFfoe8XETk"
      },
      "source": [
        "| Feature Name | Feature Description | \n",
        "|:-------------|:--------------------------------------------------------------|\n",
        "| `TotalPage_View`            | Sum of page views from `Administrative`, `Informational`, `ProductRelated` pages |\n",
        "| `TotalPage_Time`            | Sum of page durations from `Administrative`, `Informational`, `ProductRelated` pages |\n",
        "| `ProductView_Percent`       | Percentage of `ProductRelated` page views |\n",
        "| `ProductTime_Percent`       | Percentage of `ProductRelated` page durations |\n",
        "| `Average_ProductTime`       | Average duration per page for `ProductRelated` pages |\n",
        "| `PageValues_x_BounceRates`  | `PageValues` $\\times$ (1 - `BounceRates`) |\n",
        "| `PageValues_per_ProductView`| `PageValues` per `ProductRelated` page views |\n",
        "| `PageValues_per_ProductTime`| `PageValues` per `ProductRelated` page durations |"
      ]
    },
    {
      "cell_type": "code",
      "execution_count": 63,
      "metadata": {
        "id": "KiCs6JU27ySB"
      },
      "outputs": [],
      "source": [
        "df['TotalPage_View'] = (df['Administrative'] +\n",
        "                        df['Informational'] +\n",
        "                        df['ProductRelated'])"
      ]
    },
    {
      "cell_type": "code",
      "execution_count": 64,
      "metadata": {
        "id": "oQHKLEFtRmQk"
      },
      "outputs": [],
      "source": [
        "df['TotalPage_Time'] = (df['Administrative_Duration'] +\n",
        "                        df['Informational_Duration'] +\n",
        "                        df['ProductRelated_Duration'])"
      ]
    },
    {
      "cell_type": "markdown",
      "metadata": {
        "id": "l9iGog_jTkhq"
      },
      "source": [
        "Melakukan PCA (Principal Component Analysis) dengan tujuan mereduksi dimensi dengan membentuk fitur baru dengan menggabungkan fitur-fitur yang sudah ada.\n",
        "- `TotalPage_view` sebuah fitur baru yang berisi informasi total halaman yang dilihat pengunjung selama mengunjungi web.\n",
        "- `TotalPage_time` sebuah fitur baru yang berisi informasi total waktu yang dihabiskan pengunjung dalam mengunjungi web."
      ]
    },
    {
      "cell_type": "code",
      "execution_count": 65,
      "metadata": {
        "id": "Ad8TGn-A7kVs"
      },
      "outputs": [],
      "source": [
        "df['ProductView_Percent'] = df['ProductRelated'] / df['TotalPage_View'] * 100\n",
        "df['ProductTime_Percent'] = df['ProductRelated_Duration'] / df['TotalPage_Time'] * 100\n",
        "df['Average_ProductTime'] = df['ProductRelated_Duration'] / df['ProductRelated'] # Average time spent\n",
        "df['PageValues_x_BounceRates'] = df['PageValues'] * (1 - df['BounceRates'])\n",
        "df['PageValues_per_ProductView'] = df['PageValues'] / df['ProductRelated']\n",
        "df['PageValues_per_ProductTime'] = df['PageValues'] / df['ProductRelated_Duration']"
      ]
    },
    {
      "cell_type": "markdown",
      "metadata": {
        "id": "T96Mb6oSZdEU"
      },
      "source": [
        "Untuk mempermudah ML dalam memprediksi, kami mencoba untuk menggali informasi data yang nantinya akan dibuat fitur baru.\n",
        "- `ProductView_Percent` merupakan fitur yang berisi informasi persentase customer dalam melihat produk yang sejenis.\n",
        "- `ProductTime_Percent` merupakan fitur yang berisi informasi persentase customer dalam menghabiskan waktu untuk melihat produk yang sejenis.\n",
        "- `Average_ProductTime` merupakan fitur yang berisi informasi rata-rata waktu yang dihabiskan customer dalam melihat produk sejenis.\n",
        "- `PageValues_x_BounceRates` merupakan fitur yang berisi informasi keterkaitan antara PageValues dan BounceRate, dimana jika nilainya semakin besar maka semakin baik sebuah halaman tersebut.\n",
        "- `PageValues_per_ProductView` merupakan fitur yang berisi informasi rasio antara nilai halaman dan jumlah halaman produk sejenis, jika semakin tinggi nilainya maka bisa dikatakan halaman produk sejenis itu cenderung menciptakan transaksi.\n",
        "- `PageValues_per_ProductTime` merupakan fitur yang berisi informasi rasio antara nilai halaman dan waktu yang dihabiskan untuk melihat produk sejenis, jika semakin tinggi nilainya maka customer tertarik pada produk yang ditawarkan dan cenderung melakukan transaksi setelah menghabiskan di halaman produk yang cukup lama."
      ]
    },
    {
      "cell_type": "code",
      "execution_count": 66,
      "metadata": {
        "id": "7gmVNxObNK2b"
      },
      "outputs": [],
      "source": [
        "nan_replacements = {'ProductView_Percent' : 0,\n",
        "                    'ProductTime_Percent' : 0,\n",
        "                    'Average_ProductTime' : 0,\n",
        "                    'PageValues_x_BounceRates' : 0,\n",
        "                    'PageValues_per_ProductView' : 0,\n",
        "                    'PageValues_per_ProductTime' : 0}\n",
        "\n",
        "# Correct values\n",
        "df = df.fillna(nan_replacements)"
      ]
    },
    {
      "cell_type": "code",
      "execution_count": 67,
      "metadata": {
        "colab": {
          "base_uri": "https://localhost:8080/",
          "height": 270
        },
        "id": "YPKIIF8-Oyvv",
        "outputId": "b009153c-e5f4-497d-acc8-2739d03cb161"
      },
      "outputs": [
        {
          "output_type": "execute_result",
          "data": {
            "text/plain": [
              "      Administrative  Administrative_Duration  Informational  \\\n",
              "9691               0                      0.0              0   \n",
              "8533               7                    118.5              0   \n",
              "4459               0                      0.0              0   \n",
              "8117               6                    416.0              2   \n",
              "3965               0                      0.0              0   \n",
              "\n",
              "      Informational_Duration  ProductRelated  ProductRelated_Duration  \\\n",
              "9691                     0.0              52              2004.708333   \n",
              "8533                     0.0              28               829.208333   \n",
              "4459                     0.0              20               267.500000   \n",
              "8117                   121.0              94              2881.684524   \n",
              "3965                     0.0               7               380.000000   \n",
              "\n",
              "      BounceRates  ExitRates  PageValues  SpecialDay Month OperatingSystems  \\\n",
              "9691     0.000000   0.019338    0.000000         0.0   Dec          Android   \n",
              "8533     0.000000   0.015152   17.794564         0.0   Dec          Windows   \n",
              "4459     0.022222   0.028889    0.000000         0.6   May          Android   \n",
              "8117     0.006122   0.025340    0.000000         0.0   Nov              iOS   \n",
              "3965     0.014286   0.074286    0.000000         0.0   May          Android   \n",
              "\n",
              "      Browser            Region       TrafficType  VisitorType  Weekend  \\\n",
              "9691   Chrome    Kepulauan_Riau   Organic_Traffic            0        0   \n",
              "8533   Chrome    Kepulauan_Riau    Direct_Traffic            0        0   \n",
              "4459   Chrome       DKI_Jakarta  Referral_Traffic            0        0   \n",
              "8117   Chrome  Kalimantan_Timur  Referral_Traffic            0        0   \n",
              "3965  Firefox  Kalimantan_Utara   Organic_Traffic            0        1   \n",
              "\n",
              "      Purchase  TotalPage_View  TotalPage_Time  ProductView_Percent  \\\n",
              "9691         0              52     2004.708333           100.000000   \n",
              "8533         0              35      947.708333            80.000000   \n",
              "4459         0              20      267.500000           100.000000   \n",
              "8117         0             102     3418.684524            92.156863   \n",
              "3965         0               7      380.000000           100.000000   \n",
              "\n",
              "      ProductTime_Percent  Average_ProductTime  PageValues_x_BounceRates  \\\n",
              "9691           100.000000            38.552083                  0.000000   \n",
              "8533            87.496153            29.614583                 17.794564   \n",
              "4459           100.000000            13.375000                  0.000000   \n",
              "8117            84.292204            30.656218                  0.000000   \n",
              "3965           100.000000            54.285714                  0.000000   \n",
              "\n",
              "      PageValues_per_ProductView  PageValues_per_ProductTime  \n",
              "9691                     0.00000                     0.00000  \n",
              "8533                     0.63552                     0.02146  \n",
              "4459                     0.00000                     0.00000  \n",
              "8117                     0.00000                     0.00000  \n",
              "3965                     0.00000                     0.00000  "
            ],
            "text/html": [
              "\n",
              "  <div id=\"df-f44763c2-e53a-46a5-8e01-35e6094b80a2\">\n",
              "    <div class=\"colab-df-container\">\n",
              "      <div>\n",
              "<style scoped>\n",
              "    .dataframe tbody tr th:only-of-type {\n",
              "        vertical-align: middle;\n",
              "    }\n",
              "\n",
              "    .dataframe tbody tr th {\n",
              "        vertical-align: top;\n",
              "    }\n",
              "\n",
              "    .dataframe thead th {\n",
              "        text-align: right;\n",
              "    }\n",
              "</style>\n",
              "<table border=\"1\" class=\"dataframe\">\n",
              "  <thead>\n",
              "    <tr style=\"text-align: right;\">\n",
              "      <th></th>\n",
              "      <th>Administrative</th>\n",
              "      <th>Administrative_Duration</th>\n",
              "      <th>Informational</th>\n",
              "      <th>Informational_Duration</th>\n",
              "      <th>ProductRelated</th>\n",
              "      <th>ProductRelated_Duration</th>\n",
              "      <th>BounceRates</th>\n",
              "      <th>ExitRates</th>\n",
              "      <th>PageValues</th>\n",
              "      <th>SpecialDay</th>\n",
              "      <th>Month</th>\n",
              "      <th>OperatingSystems</th>\n",
              "      <th>Browser</th>\n",
              "      <th>Region</th>\n",
              "      <th>TrafficType</th>\n",
              "      <th>VisitorType</th>\n",
              "      <th>Weekend</th>\n",
              "      <th>Purchase</th>\n",
              "      <th>TotalPage_View</th>\n",
              "      <th>TotalPage_Time</th>\n",
              "      <th>ProductView_Percent</th>\n",
              "      <th>ProductTime_Percent</th>\n",
              "      <th>Average_ProductTime</th>\n",
              "      <th>PageValues_x_BounceRates</th>\n",
              "      <th>PageValues_per_ProductView</th>\n",
              "      <th>PageValues_per_ProductTime</th>\n",
              "    </tr>\n",
              "  </thead>\n",
              "  <tbody>\n",
              "    <tr>\n",
              "      <th>9691</th>\n",
              "      <td>0</td>\n",
              "      <td>0.0</td>\n",
              "      <td>0</td>\n",
              "      <td>0.0</td>\n",
              "      <td>52</td>\n",
              "      <td>2004.708333</td>\n",
              "      <td>0.000000</td>\n",
              "      <td>0.019338</td>\n",
              "      <td>0.000000</td>\n",
              "      <td>0.0</td>\n",
              "      <td>Dec</td>\n",
              "      <td>Android</td>\n",
              "      <td>Chrome</td>\n",
              "      <td>Kepulauan_Riau</td>\n",
              "      <td>Organic_Traffic</td>\n",
              "      <td>0</td>\n",
              "      <td>0</td>\n",
              "      <td>0</td>\n",
              "      <td>52</td>\n",
              "      <td>2004.708333</td>\n",
              "      <td>100.000000</td>\n",
              "      <td>100.000000</td>\n",
              "      <td>38.552083</td>\n",
              "      <td>0.000000</td>\n",
              "      <td>0.00000</td>\n",
              "      <td>0.00000</td>\n",
              "    </tr>\n",
              "    <tr>\n",
              "      <th>8533</th>\n",
              "      <td>7</td>\n",
              "      <td>118.5</td>\n",
              "      <td>0</td>\n",
              "      <td>0.0</td>\n",
              "      <td>28</td>\n",
              "      <td>829.208333</td>\n",
              "      <td>0.000000</td>\n",
              "      <td>0.015152</td>\n",
              "      <td>17.794564</td>\n",
              "      <td>0.0</td>\n",
              "      <td>Dec</td>\n",
              "      <td>Windows</td>\n",
              "      <td>Chrome</td>\n",
              "      <td>Kepulauan_Riau</td>\n",
              "      <td>Direct_Traffic</td>\n",
              "      <td>0</td>\n",
              "      <td>0</td>\n",
              "      <td>0</td>\n",
              "      <td>35</td>\n",
              "      <td>947.708333</td>\n",
              "      <td>80.000000</td>\n",
              "      <td>87.496153</td>\n",
              "      <td>29.614583</td>\n",
              "      <td>17.794564</td>\n",
              "      <td>0.63552</td>\n",
              "      <td>0.02146</td>\n",
              "    </tr>\n",
              "    <tr>\n",
              "      <th>4459</th>\n",
              "      <td>0</td>\n",
              "      <td>0.0</td>\n",
              "      <td>0</td>\n",
              "      <td>0.0</td>\n",
              "      <td>20</td>\n",
              "      <td>267.500000</td>\n",
              "      <td>0.022222</td>\n",
              "      <td>0.028889</td>\n",
              "      <td>0.000000</td>\n",
              "      <td>0.6</td>\n",
              "      <td>May</td>\n",
              "      <td>Android</td>\n",
              "      <td>Chrome</td>\n",
              "      <td>DKI_Jakarta</td>\n",
              "      <td>Referral_Traffic</td>\n",
              "      <td>0</td>\n",
              "      <td>0</td>\n",
              "      <td>0</td>\n",
              "      <td>20</td>\n",
              "      <td>267.500000</td>\n",
              "      <td>100.000000</td>\n",
              "      <td>100.000000</td>\n",
              "      <td>13.375000</td>\n",
              "      <td>0.000000</td>\n",
              "      <td>0.00000</td>\n",
              "      <td>0.00000</td>\n",
              "    </tr>\n",
              "    <tr>\n",
              "      <th>8117</th>\n",
              "      <td>6</td>\n",
              "      <td>416.0</td>\n",
              "      <td>2</td>\n",
              "      <td>121.0</td>\n",
              "      <td>94</td>\n",
              "      <td>2881.684524</td>\n",
              "      <td>0.006122</td>\n",
              "      <td>0.025340</td>\n",
              "      <td>0.000000</td>\n",
              "      <td>0.0</td>\n",
              "      <td>Nov</td>\n",
              "      <td>iOS</td>\n",
              "      <td>Chrome</td>\n",
              "      <td>Kalimantan_Timur</td>\n",
              "      <td>Referral_Traffic</td>\n",
              "      <td>0</td>\n",
              "      <td>0</td>\n",
              "      <td>0</td>\n",
              "      <td>102</td>\n",
              "      <td>3418.684524</td>\n",
              "      <td>92.156863</td>\n",
              "      <td>84.292204</td>\n",
              "      <td>30.656218</td>\n",
              "      <td>0.000000</td>\n",
              "      <td>0.00000</td>\n",
              "      <td>0.00000</td>\n",
              "    </tr>\n",
              "    <tr>\n",
              "      <th>3965</th>\n",
              "      <td>0</td>\n",
              "      <td>0.0</td>\n",
              "      <td>0</td>\n",
              "      <td>0.0</td>\n",
              "      <td>7</td>\n",
              "      <td>380.000000</td>\n",
              "      <td>0.014286</td>\n",
              "      <td>0.074286</td>\n",
              "      <td>0.000000</td>\n",
              "      <td>0.0</td>\n",
              "      <td>May</td>\n",
              "      <td>Android</td>\n",
              "      <td>Firefox</td>\n",
              "      <td>Kalimantan_Utara</td>\n",
              "      <td>Organic_Traffic</td>\n",
              "      <td>0</td>\n",
              "      <td>1</td>\n",
              "      <td>0</td>\n",
              "      <td>7</td>\n",
              "      <td>380.000000</td>\n",
              "      <td>100.000000</td>\n",
              "      <td>100.000000</td>\n",
              "      <td>54.285714</td>\n",
              "      <td>0.000000</td>\n",
              "      <td>0.00000</td>\n",
              "      <td>0.00000</td>\n",
              "    </tr>\n",
              "  </tbody>\n",
              "</table>\n",
              "</div>\n",
              "      <button class=\"colab-df-convert\" onclick=\"convertToInteractive('df-f44763c2-e53a-46a5-8e01-35e6094b80a2')\"\n",
              "              title=\"Convert this dataframe to an interactive table.\"\n",
              "              style=\"display:none;\">\n",
              "        \n",
              "  <svg xmlns=\"http://www.w3.org/2000/svg\" height=\"24px\"viewBox=\"0 0 24 24\"\n",
              "       width=\"24px\">\n",
              "    <path d=\"M0 0h24v24H0V0z\" fill=\"none\"/>\n",
              "    <path d=\"M18.56 5.44l.94 2.06.94-2.06 2.06-.94-2.06-.94-.94-2.06-.94 2.06-2.06.94zm-11 1L8.5 8.5l.94-2.06 2.06-.94-2.06-.94L8.5 2.5l-.94 2.06-2.06.94zm10 10l.94 2.06.94-2.06 2.06-.94-2.06-.94-.94-2.06-.94 2.06-2.06.94z\"/><path d=\"M17.41 7.96l-1.37-1.37c-.4-.4-.92-.59-1.43-.59-.52 0-1.04.2-1.43.59L10.3 9.45l-7.72 7.72c-.78.78-.78 2.05 0 2.83L4 21.41c.39.39.9.59 1.41.59.51 0 1.02-.2 1.41-.59l7.78-7.78 2.81-2.81c.8-.78.8-2.07 0-2.86zM5.41 20L4 18.59l7.72-7.72 1.47 1.35L5.41 20z\"/>\n",
              "  </svg>\n",
              "      </button>\n",
              "      \n",
              "  <style>\n",
              "    .colab-df-container {\n",
              "      display:flex;\n",
              "      flex-wrap:wrap;\n",
              "      gap: 12px;\n",
              "    }\n",
              "\n",
              "    .colab-df-convert {\n",
              "      background-color: #E8F0FE;\n",
              "      border: none;\n",
              "      border-radius: 50%;\n",
              "      cursor: pointer;\n",
              "      display: none;\n",
              "      fill: #1967D2;\n",
              "      height: 32px;\n",
              "      padding: 0 0 0 0;\n",
              "      width: 32px;\n",
              "    }\n",
              "\n",
              "    .colab-df-convert:hover {\n",
              "      background-color: #E2EBFA;\n",
              "      box-shadow: 0px 1px 2px rgba(60, 64, 67, 0.3), 0px 1px 3px 1px rgba(60, 64, 67, 0.15);\n",
              "      fill: #174EA6;\n",
              "    }\n",
              "\n",
              "    [theme=dark] .colab-df-convert {\n",
              "      background-color: #3B4455;\n",
              "      fill: #D2E3FC;\n",
              "    }\n",
              "\n",
              "    [theme=dark] .colab-df-convert:hover {\n",
              "      background-color: #434B5C;\n",
              "      box-shadow: 0px 1px 3px 1px rgba(0, 0, 0, 0.15);\n",
              "      filter: drop-shadow(0px 1px 2px rgba(0, 0, 0, 0.3));\n",
              "      fill: #FFFFFF;\n",
              "    }\n",
              "  </style>\n",
              "\n",
              "      <script>\n",
              "        const buttonEl =\n",
              "          document.querySelector('#df-f44763c2-e53a-46a5-8e01-35e6094b80a2 button.colab-df-convert');\n",
              "        buttonEl.style.display =\n",
              "          google.colab.kernel.accessAllowed ? 'block' : 'none';\n",
              "\n",
              "        async function convertToInteractive(key) {\n",
              "          const element = document.querySelector('#df-f44763c2-e53a-46a5-8e01-35e6094b80a2');\n",
              "          const dataTable =\n",
              "            await google.colab.kernel.invokeFunction('convertToInteractive',\n",
              "                                                     [key], {});\n",
              "          if (!dataTable) return;\n",
              "\n",
              "          const docLinkHtml = 'Like what you see? Visit the ' +\n",
              "            '<a target=\"_blank\" href=https://colab.research.google.com/notebooks/data_table.ipynb>data table notebook</a>'\n",
              "            + ' to learn more about interactive tables.';\n",
              "          element.innerHTML = '';\n",
              "          dataTable['output_type'] = 'display_data';\n",
              "          await google.colab.output.renderOutput(dataTable, element);\n",
              "          const docLink = document.createElement('div');\n",
              "          docLink.innerHTML = docLinkHtml;\n",
              "          element.appendChild(docLink);\n",
              "        }\n",
              "      </script>\n",
              "    </div>\n",
              "  </div>\n",
              "  "
            ]
          },
          "metadata": {},
          "execution_count": 67
        }
      ],
      "source": [
        "df.sample(5)"
      ]
    }
  ],
  "metadata": {
    "colab": {
      "provenance": []
    },
    "kernelspec": {
      "display_name": "Python 3",
      "name": "python3"
    },
    "language_info": {
      "name": "python"
    }
  },
  "nbformat": 4,
  "nbformat_minor": 0
}